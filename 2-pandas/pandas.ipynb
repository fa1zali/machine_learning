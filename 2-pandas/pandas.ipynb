{
 "cells": [
  {
   "cell_type": "code",
   "execution_count": null,
   "metadata": {},
   "outputs": [],
   "source": [
    "# import library\n",
    "import pandas as pd"
   ]
  },
  {
   "cell_type": "markdown",
   "metadata": {},
   "source": [
    "# Pandas Series"
   ]
  },
  {
   "cell_type": "code",
   "execution_count": null,
   "metadata": {},
   "outputs": [],
   "source": [
    "# Creating a panda series\n",
    "groceries = pd.Series(data = [30, 6, 'Yes', 'No'], index = ['eggs', 'apples', 'milk', 'bread'])\n",
    "\n",
    "print(groceries)"
   ]
  },
  {
   "cell_type": "markdown",
   "metadata": {},
   "source": [
    "## Analysis of Pandas Series"
   ]
  },
  {
   "cell_type": "code",
   "execution_count": null,
   "metadata": {},
   "outputs": [],
   "source": [
    "# to check shape\n",
    "print(f\"goceries has shape: {groceries.shape}\")\n",
    "\n",
    "# to check dimensions\n",
    "print(f\"groceries has dimensions: {groceries.ndim}\")\n",
    "\n",
    "# to check size/number of elements\n",
    "print(f\"groceries has a total of {groceries.size} elements\")"
   ]
  },
  {
   "cell_type": "code",
   "execution_count": null,
   "metadata": {},
   "outputs": [],
   "source": [
    "# to print index labels\n",
    "print(f\"The index of groceries is: {groceries.index}\")\n",
    "\n",
    "# to print the values\n",
    "print(f\"The data in groceries is: {groceries.values}\")"
   ]
  },
  {
   "cell_type": "code",
   "execution_count": null,
   "metadata": {},
   "outputs": [],
   "source": [
    "# checking if an index label exists in our panda series\n",
    "x = 'bananas' in groceries\n",
    "y = 'bread' in groceries\n",
    "\n",
    "print(f\"Is banana an index label in groceries: {x}\")\n",
    "print(f\"Is bread an index label in groceries: {y}\")"
   ]
  },
  {
   "cell_type": "markdown",
   "metadata": {},
   "source": [
    "## Accessing, Modifying & Deleting elements in Pandas Series"
   ]
  },
  {
   "cell_type": "code",
   "execution_count": null,
   "metadata": {},
   "outputs": [],
   "source": [
    "# Accessing values in pandas series\n",
    "print(f\"How many eggs do we need to buy: {groceries['eggs']}\")\n",
    "\n",
    "print(f\"Do we need milk and bread: \\n{groceries[['milk', 'bread']]}\")"
   ]
  },
  {
   "cell_type": "code",
   "execution_count": null,
   "metadata": {},
   "outputs": [],
   "source": [
    "# Using .loc (labelled index)\n",
    "print(f\"How many eggs and apples do we need to buy: \\n{groceries.loc[['eggs', 'apples']]}\")"
   ]
  },
  {
   "cell_type": "code",
   "execution_count": null,
   "metadata": {},
   "outputs": [],
   "source": [
    "# Using index position\n",
    "print(f\"How many eggs and apples do we need to buy: \\n{groceries[[0, 1]]}\")"
   ]
  },
  {
   "cell_type": "code",
   "execution_count": null,
   "metadata": {},
   "outputs": [],
   "source": [
    "# Using .iloc (integer location)\n",
    "print(f\"Do we need milk and bread: \\n{groceries.iloc[[2, 3]]}\")"
   ]
  },
  {
   "cell_type": "code",
   "execution_count": null,
   "metadata": {},
   "outputs": [],
   "source": [
    "# modifying values in pandas series\n",
    "groceries['eggs'] = 2\n",
    "\n",
    "print(groceries)"
   ]
  },
  {
   "cell_type": "code",
   "execution_count": null,
   "metadata": {},
   "outputs": [],
   "source": [
    "# deleting elements using drop method (Out of place)\n",
    "\n",
    "print(f\"We remove apples out of place: \\n{groceries.drop('apples')}\")\n",
    "\n",
    "print('\\n')\n",
    "\n",
    "print(f'Original pandas series: \\n{groceries}')"
   ]
  },
  {
   "cell_type": "code",
   "execution_count": null,
   "metadata": {},
   "outputs": [],
   "source": [
    "# deleting elements using drop method (In place)\n",
    "groceries.drop('apples', inplace=True)\n",
    "\n",
    "print(f'We remove apples in place: \\n{groceries}')"
   ]
  },
  {
   "cell_type": "markdown",
   "metadata": {},
   "source": [
    "## Arithematic operations on Pandas Series"
   ]
  },
  {
   "cell_type": "code",
   "execution_count": null,
   "metadata": {},
   "outputs": [],
   "source": [
    "fruits = pd.Series(data = [10, 6, 3], index = ['apples', 'oranges', 'bananas'])\n",
    "\n",
    "print(fruits)"
   ]
  },
  {
   "cell_type": "code",
   "execution_count": null,
   "metadata": {},
   "outputs": [],
   "source": [
    "# addition\n",
    "print(f\"fruits + 2: \\n{fruits + 2}\\n\")\n",
    "\n",
    "# subtraction\n",
    "print(f\"fruits - 2: \\n{fruits - 2}\\n\")\n",
    "\n",
    "# division\n",
    "print(f\"fruits / 2: \\n{fruits / 2}\\n\")\n",
    "\n",
    "# multiplication\n",
    "print(f\"fruits * 2: \\n{fruits * 2}\")"
   ]
  },
  {
   "cell_type": "code",
   "execution_count": null,
   "metadata": {},
   "outputs": [],
   "source": [
    "# Mathematical functions from numpy\n",
    "import numpy as np\n",
    "\n",
    "# Exponentiation\n",
    "print(f\"Exp(x): \\n{np.exp(fruits)}\\n\")\n",
    "\n",
    "# Square root\n",
    "print(f\"Sqrt(x): \\n{np.sqrt(fruits)}\\n\")\n",
    "\n",
    "# Power\n",
    "print(f\"Pow(x,2): \\n{np.power(fruits, 2)}\")"
   ]
  },
  {
   "cell_type": "markdown",
   "metadata": {},
   "source": [
    "# Pandas Dataframe"
   ]
  },
  {
   "cell_type": "code",
   "execution_count": null,
   "metadata": {},
   "outputs": [],
   "source": [
    "# creating a simple dataframe\n",
    "items = {'Bob': pd.Series(data=[245, 25, 55], index = ['bike', 'pants', 'watch']),\\\n",
    "         'Alice':pd.Series(data=[40, 110, 500, 45], index = ['book', 'glass', 'bike', 'pants'])}\n",
    "\n",
    "print(type(items))\n",
    "\n",
    "shopping_cart = pd.DataFrame(items)\n",
    "\n",
    "print('\\n')\n",
    "\n",
    "print(shopping_cart)\n",
    "print(\"\\n NaN stands for not a number\")"
   ]
  },
  {
   "cell_type": "code",
   "execution_count": null,
   "metadata": {},
   "outputs": [],
   "source": [
    "# creating dataframe without index\n",
    "data = {'Alice':pd.Series([40, 110, 500, 45]), 'Bob':pd.Series([245, 25, 55])}\n",
    "data_without_index = pd.DataFrame(data)\n",
    "\n",
    "print(data_without_index)"
   ]
  },
  {
   "cell_type": "code",
   "execution_count": null,
   "metadata": {},
   "outputs": [],
   "source": [
    "# creating dataframes using columns & index keywords\n",
    "\n",
    "bob_shopping_cart = pd.DataFrame(items, columns= ['Bob'])\n",
    "\n",
    "print(bob_shopping_cart)\n",
    "print('\\n')\n",
    "\n",
    "# creating shopping cart with selected items\n",
    "\n",
    "sel_shopping_cart = pd.DataFrame(items, index= ['pants', 'book'])\n",
    "\n",
    "print(sel_shopping_cart)\n",
    "\n",
    "# creating a dataframe with particular column and selected index\n",
    "print('\\n')\n",
    "alice_shopping_cart = pd.DataFrame(items, columns= ['Alice'], index= ['glass', 'bike'])\n",
    "\n",
    "print(alice_shopping_cart)"
   ]
  },
  {
   "cell_type": "code",
   "execution_count": null,
   "metadata": {},
   "outputs": [],
   "source": [
    "# Loading data into Pandas dataframe\n",
    "\n",
    "diabetes_df = pd.read_csv('diabetes.csv')\n",
    "\n",
    "print(type(diabetes_df))"
   ]
  },
  {
   "cell_type": "markdown",
   "metadata": {},
   "source": [
    "## Analysis of Pandas Dataframe"
   ]
  },
  {
   "cell_type": "code",
   "execution_count": null,
   "metadata": {},
   "outputs": [],
   "source": [
    "# to print head of a dataframe\n",
    "print(diabetes_df.head())"
   ]
  },
  {
   "cell_type": "code",
   "execution_count": null,
   "metadata": {},
   "outputs": [],
   "source": [
    "# to print tail of a dataframe\n",
    "print(diabetes_df.tail())"
   ]
  },
  {
   "cell_type": "code",
   "execution_count": null,
   "metadata": {},
   "outputs": [],
   "source": [
    "# count values column wisem\n",
    "print(diabetes_df.count())"
   ]
  },
  {
   "cell_type": "code",
   "execution_count": null,
   "metadata": {},
   "outputs": [],
   "source": [
    "# count values based on labels\n",
    "\n",
    "print(diabetes_df.value_counts('Outcome'))"
   ]
  },
  {
   "cell_type": "code",
   "execution_count": null,
   "metadata": {},
   "outputs": [],
   "source": [
    "# to print info of a dataframe\n",
    "print(diabetes_df.info())"
   ]
  },
  {
   "cell_type": "code",
   "execution_count": null,
   "metadata": {},
   "outputs": [],
   "source": [
    "# to check shape\n",
    "print(f\"The shape is: {diabetes_df.shape}\")"
   ]
  },
  {
   "cell_type": "code",
   "execution_count": null,
   "metadata": {},
   "outputs": [],
   "source": [
    "# to check data types\n",
    "print(f\"The data types are: \\n{diabetes_df.dtypes}\")"
   ]
  },
  {
   "cell_type": "code",
   "execution_count": null,
   "metadata": {},
   "outputs": [],
   "source": [
    "# to check dimension\n",
    "print(f\"The dimension is: {diabetes_df.ndim}\")\n"
   ]
  },
  {
   "cell_type": "code",
   "execution_count": null,
   "metadata": {},
   "outputs": [],
   "source": [
    "# to check size\n",
    "print(f\"The size is: {diabetes_df.size}\")\n"
   ]
  },
  {
   "cell_type": "code",
   "execution_count": null,
   "metadata": {},
   "outputs": [],
   "source": [
    "# to get only values\n",
    "print(f\"The values are: \\n{shopping_cart.values}\")"
   ]
  },
  {
   "cell_type": "code",
   "execution_count": null,
   "metadata": {},
   "outputs": [],
   "source": [
    "# to get only index\n",
    "print(f\"The index values are: {diabetes_df.index}\")"
   ]
  },
  {
   "cell_type": "code",
   "execution_count": null,
   "metadata": {},
   "outputs": [],
   "source": [
    "# to get only columns\n",
    "print(f\"The columns are: \\n{diabetes_df.columns}\")"
   ]
  },
  {
   "cell_type": "code",
   "execution_count": null,
   "metadata": {},
   "outputs": [],
   "source": [
    "# number of unique values in each column\n",
    "print(diabetes_df.nunique())"
   ]
  },
  {
   "cell_type": "code",
   "execution_count": null,
   "metadata": {},
   "outputs": [],
   "source": [
    "# to check mean value - column wise\n",
    "\n",
    "print(diabetes_df.mean())"
   ]
  },
  {
   "cell_type": "code",
   "execution_count": null,
   "metadata": {},
   "outputs": [],
   "source": [
    "# to check standard deviation - column wise\n",
    "\n",
    "print(diabetes_df.std())"
   ]
  },
  {
   "cell_type": "code",
   "execution_count": null,
   "metadata": {},
   "outputs": [],
   "source": [
    "# minimum value\n",
    "\n",
    "print(diabetes_df.min())"
   ]
  },
  {
   "cell_type": "code",
   "execution_count": null,
   "metadata": {},
   "outputs": [],
   "source": [
    "# maximum value\n",
    "\n",
    "print(diabetes_df.max())"
   ]
  },
  {
   "cell_type": "code",
   "execution_count": null,
   "metadata": {},
   "outputs": [],
   "source": [
    "# to print descriptive statistics of a dataframe\n",
    "print(diabetes_df.describe())"
   ]
  },
  {
   "cell_type": "code",
   "execution_count": null,
   "metadata": {},
   "outputs": [],
   "source": [
    "# to check if different columns correlated of a dataframe\n",
    "print(diabetes_df.corr())"
   ]
  },
  {
   "cell_type": "code",
   "execution_count": null,
   "metadata": {},
   "outputs": [],
   "source": [
    "# to find missing values\n",
    "print(diabetes_df.isnull().any())"
   ]
  },
  {
   "cell_type": "code",
   "execution_count": null,
   "metadata": {},
   "outputs": [],
   "source": [
    "# to print info of a dataframe\n",
    "print(diabetes_df.info())"
   ]
  },
  {
   "cell_type": "code",
   "execution_count": null,
   "metadata": {},
   "outputs": [],
   "source": [
    "# to find number of missing values\n",
    "print(diabetes_df.isnull().sum())"
   ]
  },
  {
   "cell_type": "code",
   "execution_count": null,
   "metadata": {},
   "outputs": [],
   "source": [
    "print(diabetes_df.groupby('Outcome').mean())"
   ]
  },
  {
   "cell_type": "markdown",
   "metadata": {},
   "source": [
    "## Accessing, Deleting & Modifying Pandas Dataframe"
   ]
  },
  {
   "cell_type": "code",
   "execution_count": null,
   "metadata": {},
   "outputs": [],
   "source": [
    "store = {'store1':pd.Series(data=[155, 10, 2, 3], index=['bikes', 'pants', 'watches', 'glasses']),\\\n",
    "         'store2':pd.Series(data=[200, 15, 7, 1], index=['bikes', 'pants', 'watches', 'glasses'])}\n",
    "\n",
    "store_df = pd.DataFrame(store)\n",
    "print(store_df)"
   ]
  },
  {
   "cell_type": "code",
   "execution_count": null,
   "metadata": {},
   "outputs": [],
   "source": [
    "# Accessing column in a dataframe\n",
    "\n",
    "print(store_df['store1'])"
   ]
  },
  {
   "cell_type": "code",
   "execution_count": null,
   "metadata": {},
   "outputs": [],
   "source": [
    "# Accessing row in a dataframe\n",
    "print(store_df.loc[['watches']])\n",
    "\n",
    "print(store_df.iloc[[3]])"
   ]
  },
  {
   "cell_type": "code",
   "execution_count": null,
   "metadata": {},
   "outputs": [],
   "source": [
    "# Accessing row of a column in a dataframe\n",
    "store_df.loc[['watches'],['store1']]"
   ]
  },
  {
   "cell_type": "code",
   "execution_count": null,
   "metadata": {},
   "outputs": [],
   "source": [
    "# Updating values based on labels\n",
    "print(store_df)\n",
    "\n",
    "store_df.loc[['watches']] = [4, 5]\n",
    "print(\"\\n\")\n",
    "print(store_df)"
   ]
  },
  {
   "cell_type": "code",
   "execution_count": null,
   "metadata": {},
   "outputs": [],
   "source": [
    "# drop rows or columns\n",
    "\n",
    "print(store_df.drop(['bikes'], axis = 0))\n",
    "\n",
    "print(store_df.drop(['store1'], axis = 1))"
   ]
  },
  {
   "cell_type": "code",
   "execution_count": null,
   "metadata": {},
   "outputs": [],
   "source": [
    "# renaming columns\n",
    "\n",
    "store_df.rename(columns={'store2':'Spar Mall'})"
   ]
  },
  {
   "cell_type": "code",
   "execution_count": null,
   "metadata": {},
   "outputs": [],
   "source": [
    "# Correlation\n",
    "store_df.corr()"
   ]
  },
  {
   "cell_type": "markdown",
   "metadata": {},
   "source": [
    "## Dealing with NaN"
   ]
  },
  {
   "cell_type": "code",
   "execution_count": null,
   "metadata": {},
   "outputs": [],
   "source": [
    "# to count total number of NaN values\n",
    "x = diabetes_df.isnull().sum().sum()\n",
    "print(x)"
   ]
  },
  {
   "cell_type": "code",
   "execution_count": null,
   "metadata": {},
   "outputs": [],
   "source": [
    "# to drop NaN values (axis = 0/1 for row/column)\n",
    "diabetes_df.dropna(axis=0)"
   ]
  },
  {
   "cell_type": "code",
   "execution_count": null,
   "metadata": {},
   "outputs": [],
   "source": [
    "# Replace NaN with some other value\n",
    "diabetes_df.fillna(0)\n",
    "\n",
    "# We can use different methods to fill NaN values\n",
    "# df.fillna(method='ffil', axis=0/1) : fills previous values\n",
    "# df.fillna(method='backfill', axis=0/1) : fills values which are next to NaNtf "
   ]
  }
 ],
 "metadata": {
  "kernelspec": {
   "display_name": "Python 3.10.4 ('ml_venv': venv)",
   "language": "python",
   "name": "python3"
  },
  "language_info": {
   "codemirror_mode": {
    "name": "ipython",
    "version": 3
   },
   "file_extension": ".py",
   "mimetype": "text/x-python",
   "name": "python",
   "nbconvert_exporter": "python",
   "pygments_lexer": "ipython3",
   "version": "3.10.4"
  },
  "orig_nbformat": 4,
  "vscode": {
   "interpreter": {
    "hash": "597bf6f0ce64eed4080c8073b63dc7817e750b01a6ee9d419713de4090ad8a98"
   }
  }
 },
 "nbformat": 4,
 "nbformat_minor": 2
}
