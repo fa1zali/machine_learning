{
 "cells": [
  {
   "cell_type": "markdown",
   "metadata": {},
   "source": [
    "### Logistic Regression:\n",
    "\n",
    "**y_pred = 1/(1+(e^(-z)))**\n",
    "\n",
    "**z = w.x + b**\n",
    "\n",
    "* x: Independent Variable\n",
    "* y: Dependent Variable\n",
    "* w: weight \n",
    "* b: bias\n",
    "\n",
    "### Gradient Descent:\n",
    "\n",
    "Gradient Descent is an optimization algorithm used for minimizing the cost function in various machine learning algorithm.\n",
    "Used for updating the parameters of the learning model.\n",
    "\n",
    "**w = w - α*dw**\n",
    "\n",
    "**b = b - α*db**\n",
    "\n",
    "**dw = ((Y_pred - Y).X)/m**\n",
    "\n",
    "**db = (Y_pred - Y)/m**\n",
    "\n",
    "### Learning Rate (α):\n",
    "\n",
    "Learning rate is a tuning parameter in an optimization algorithm that determines the step size at each iteration while moving\n",
    "towards a minimum of a loss function."
   ]
  },
  {
   "cell_type": "markdown",
   "metadata": {},
   "source": [
    "Import dependencies"
   ]
  },
  {
   "cell_type": "code",
   "execution_count": 5,
   "metadata": {},
   "outputs": [],
   "source": [
    "# import libraries\n",
    "\n",
    "import numpy as np"
   ]
  },
  {
   "cell_type": "markdown",
   "metadata": {},
   "source": [
    "Logistic Regression"
   ]
  },
  {
   "cell_type": "code",
   "execution_count": 4,
   "metadata": {},
   "outputs": [],
   "source": [
    "class LogisticRegression():\n",
    "\n",
    "    def __init__(self, learning_rate, iteration_count):\n",
    "        # initializing hyperparameters\n",
    "        self.learning_rate = learning_rate\n",
    "        self.iteration_count = iteration_count\n",
    "\n",
    "    def fit(self, X, Y):\n",
    "        \n",
    "        self.X = X\n",
    "        self.Y = Y\n",
    "\n",
    "        self.m, self.n = X.shape\n",
    "\n",
    "        self.w = np.zeros(self.n)\n",
    "        self.b = 0\n",
    "\n",
    "        for i in range(self.iteration_count):\n",
    "            self.update_weights()\n",
    "\n",
    "    def update_weights(self):\n",
    "        \n",
    "        Y_hat = 1/(1+(np.exp(-(self.X.dot(self.w) + self.b))))\n",
    "\n",
    "        # calculate gradients\n",
    "\n",
    "        dw = (1/self.m)*np.dot(self.X.T, (Y_hat - self.Y))\n",
    "        db = (1/self.m)*np.sum(Y_hat - self.Y)\n",
    "\n",
    "        # updating the weights\n",
    "\n",
    "        self.w -= self.learning_rate*dw\n",
    "        self.b -= self.learning_rate*db\n",
    "\n",
    "    def predict(self, X):\n",
    "\n",
    "        y_pred = 1/(1+(np.exp(-(X.dot(self.w) + self.b))))\n",
    "        y_pred = np.where(y_pred > 0.5, 1, 0)\n",
    "        return y_pred"
   ]
  },
  {
   "cell_type": "code",
   "execution_count": null,
   "metadata": {},
   "outputs": [],
   "source": []
  }
 ],
 "metadata": {
  "kernelspec": {
   "display_name": "Python 3.10.4 ('ml_venv': venv)",
   "language": "python",
   "name": "python3"
  },
  "language_info": {
   "codemirror_mode": {
    "name": "ipython",
    "version": 3
   },
   "file_extension": ".py",
   "mimetype": "text/x-python",
   "name": "python",
   "nbconvert_exporter": "python",
   "pygments_lexer": "ipython3",
   "version": "3.10.4"
  },
  "orig_nbformat": 4,
  "vscode": {
   "interpreter": {
    "hash": "272bd001f21b68a2213b0c1280dde55559bfba749cceffeca64df063ee36ec83"
   }
  }
 },
 "nbformat": 4,
 "nbformat_minor": 2
}
