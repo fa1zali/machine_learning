{
 "cells": [
  {
   "cell_type": "code",
   "execution_count": 1,
   "metadata": {},
   "outputs": [],
   "source": [
    "# importing libraries\n",
    "\n",
    "import numpy as np"
   ]
  },
  {
   "cell_type": "markdown",
   "metadata": {},
   "source": [
    "**Matrix Addition: Both matrices should be of same shape**"
   ]
  },
  {
   "cell_type": "code",
   "execution_count": 6,
   "metadata": {},
   "outputs": [
    {
     "name": "stdout",
     "output_type": "stream",
     "text": [
      "[[2 4]\n",
      " [5 8]]\n",
      "\n",
      "[[3 6]\n",
      " [4 7]]\n",
      "\n",
      "[[ 5 10]\n",
      " [ 9 15]]\n",
      "\n",
      "[[ 5 10]\n",
      " [ 9 15]]\n"
     ]
    }
   ],
   "source": [
    "m1 = np.array([[2,4],[5,8]])\n",
    "m2 = np.array([[3,6],[4,7]])\n",
    "\n",
    "print(m1)\n",
    "print()\n",
    "print(m2)\n",
    "print()\n",
    "\n",
    "m3 = m1 + m2\n",
    "m4 = np.add(m1,m2)\n",
    "\n",
    "print(m3)\n",
    "print()\n",
    "print(m4)"
   ]
  },
  {
   "cell_type": "markdown",
   "metadata": {},
   "source": [
    "**Matrix Subtraction: Both matrices should be of same shape**"
   ]
  },
  {
   "cell_type": "code",
   "execution_count": 7,
   "metadata": {},
   "outputs": [
    {
     "name": "stdout",
     "output_type": "stream",
     "text": [
      "[[2 4]\n",
      " [5 8]]\n",
      "\n",
      "[[3 6]\n",
      " [4 7]]\n",
      "\n",
      "[[-1 -2]\n",
      " [ 1  1]]\n",
      "\n",
      "[[-1 -2]\n",
      " [ 1  1]]\n"
     ]
    }
   ],
   "source": [
    "m1 = np.array([[2,4],[5,8]])\n",
    "m2 = np.array([[3,6],[4,7]])\n",
    "\n",
    "print(m1)\n",
    "print()\n",
    "print(m2)\n",
    "print()\n",
    "\n",
    "m3 = m1 - m2\n",
    "m4 = np.subtract(m1,m2)\n",
    "\n",
    "print(m3)\n",
    "print()\n",
    "print(m4)"
   ]
  },
  {
   "cell_type": "markdown",
   "metadata": {},
   "source": [
    "**Multiplying matrix by a scalar**"
   ]
  },
  {
   "cell_type": "code",
   "execution_count": 8,
   "metadata": {},
   "outputs": [
    {
     "name": "stdout",
     "output_type": "stream",
     "text": [
      "[[1 2 3]\n",
      " [4 5 6]\n",
      " [7 8 9]]\n",
      "\n",
      "[[ 5 10 15]\n",
      " [20 25 30]\n",
      " [35 40 45]]\n"
     ]
    }
   ],
   "source": [
    "x = 5\n",
    "\n",
    "m1 = np.array([[1,2,3], [4,5,6], [7,8,9]])\n",
    "\n",
    "print(m1)\n",
    "print()\n",
    "product = x * m1\n",
    "\n",
    "print(product)"
   ]
  },
  {
   "cell_type": "markdown",
   "metadata": {},
   "source": [
    "**Multiplying 2 matrices**"
   ]
  },
  {
   "cell_type": "code",
   "execution_count": 21,
   "metadata": {},
   "outputs": [
    {
     "name": "stdout",
     "output_type": "stream",
     "text": [
      "[[3 7 6 7 6]\n",
      " [5 4 5 2 6]\n",
      " [8 1 9 6 9]\n",
      " [1 6 9 8 1]]\n",
      "\n",
      "[[5 5 9 9]\n",
      " [5 4 5 1]\n",
      " [9 8 3 9]\n",
      " [2 5 4 6]\n",
      " [7 2 7 2]]\n",
      "\n",
      "[[160 138 150 142]\n",
      " [136 103 130 118]\n",
      " [201 164 191 208]\n",
      " [139 143 105 146]]\n",
      "\n",
      "(4, 4)\n"
     ]
    }
   ],
   "source": [
    "m1 = np.random.randint(1,10,(4,5))\n",
    "m2 = np.random.randint(1,10,(5,4))\n",
    "\n",
    "print(m1)\n",
    "print()\n",
    "print(m2)\n",
    "print()\n",
    "\n",
    "product = np.dot(m1,m2)\n",
    "\n",
    "print(product)\n",
    "print()\n",
    "print(product.shape)"
   ]
  },
  {
   "cell_type": "markdown",
   "metadata": {},
   "source": [
    "**Multiplying 2 matrices (Element wise)**"
   ]
  },
  {
   "cell_type": "code",
   "execution_count": 23,
   "metadata": {},
   "outputs": [
    {
     "name": "stdout",
     "output_type": "stream",
     "text": [
      "[[7 9 1 3]\n",
      " [9 6 2 5]\n",
      " [8 4 2 9]\n",
      " [3 1 4 9]]\n",
      "\n",
      "[[8 9 7 3]\n",
      " [1 8 8 4]\n",
      " [8 8 5 5]\n",
      " [5 1 5 8]]\n",
      "\n",
      "[[56 81  7  9]\n",
      " [ 9 48 16 20]\n",
      " [64 32 10 45]\n",
      " [15  1 20 72]]\n",
      "\n",
      "(4, 4)\n"
     ]
    }
   ],
   "source": [
    "m1 = np.random.randint(1,10,(4,4))\n",
    "m2 = np.random.randint(1,10,(4,4))\n",
    "\n",
    "print(m1)\n",
    "print()\n",
    "print(m2)\n",
    "print()\n",
    "\n",
    "product = np.multiply(m1,m2)\n",
    "\n",
    "print(product)\n",
    "print()\n",
    "print(product.shape)"
   ]
  },
  {
   "cell_type": "code",
   "execution_count": null,
   "metadata": {},
   "outputs": [],
   "source": []
  }
 ],
 "metadata": {
  "kernelspec": {
   "display_name": "Python 3.10.4 ('ml_venv': venv)",
   "language": "python",
   "name": "python3"
  },
  "language_info": {
   "name": "python",
   "version": "3.10.4"
  },
  "orig_nbformat": 4,
  "vscode": {
   "interpreter": {
    "hash": "272bd001f21b68a2213b0c1280dde55559bfba749cceffeca64df063ee36ec83"
   }
  }
 },
 "nbformat": 4,
 "nbformat_minor": 2
}
