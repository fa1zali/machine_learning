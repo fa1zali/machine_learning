{
 "cells": [
  {
   "cell_type": "code",
   "execution_count": 15,
   "metadata": {},
   "outputs": [],
   "source": [
    "# import libraries\n",
    "\n",
    "import numpy as np"
   ]
  },
  {
   "cell_type": "markdown",
   "metadata": {},
   "source": [
    "Creating a numpy matrix"
   ]
  },
  {
   "cell_type": "code",
   "execution_count": 16,
   "metadata": {},
   "outputs": [
    {
     "name": "stdout",
     "output_type": "stream",
     "text": [
      "[[2 4]\n",
      " [5 8]]\n",
      "\n",
      "The shape is: (2, 2)\n"
     ]
    }
   ],
   "source": [
    "m1 = np.array([[2, 4], [5, 8]])\n",
    "\n",
    "print(m1)\n",
    "\n",
    "print()\n",
    "\n",
    "print(f\"The shape is: {m1.shape}\")"
   ]
  },
  {
   "cell_type": "code",
   "execution_count": 17,
   "metadata": {},
   "outputs": [
    {
     "name": "stdout",
     "output_type": "stream",
     "text": [
      "[[1 2 4]\n",
      " [3 5 8]\n",
      " [6 7 9]]\n",
      "\n",
      "The shape is: (3, 3)\n"
     ]
    }
   ],
   "source": [
    "m2 = np.array([[1, 2, 4], [3, 5, 8], [6, 7, 9]])\n",
    "\n",
    "print(m2)\n",
    "\n",
    "print()\n",
    "\n",
    "print(f\"The shape is: {m2.shape}\")"
   ]
  },
  {
   "cell_type": "markdown",
   "metadata": {},
   "source": [
    "Creating matrix with random value"
   ]
  },
  {
   "cell_type": "code",
   "execution_count": 18,
   "metadata": {},
   "outputs": [
    {
     "name": "stdout",
     "output_type": "stream",
     "text": [
      "[[0.12954074 0.98382671 0.66172648]\n",
      " [0.79609594 0.21743339 0.24473027]\n",
      " [0.7699315  0.1130381  0.68129894]]\n",
      "\n",
      "The shape is: (3, 3)\n"
     ]
    }
   ],
   "source": [
    "m3 = np.random.rand(3,3)\n",
    "\n",
    "print(m3)\n",
    "\n",
    "print()\n",
    "\n",
    "print(f\"The shape is: {m3.shape}\")"
   ]
  },
  {
   "cell_type": "code",
   "execution_count": 19,
   "metadata": {},
   "outputs": [
    {
     "name": "stdout",
     "output_type": "stream",
     "text": [
      "[[92 34  2 36 49]\n",
      " [66 47 60 73 27]\n",
      " [89 54  6 46 69]\n",
      " [30 22 14 33 34]]\n",
      "\n",
      "The shape is: (4, 5)\n"
     ]
    }
   ],
   "source": [
    "m4 = np.random.randint(100, size=(4,5))\n",
    "\n",
    "print(m4)\n",
    "\n",
    "print()\n",
    "\n",
    "print(f\"The shape is: {m4.shape}\")"
   ]
  },
  {
   "cell_type": "markdown",
   "metadata": {},
   "source": [
    "Matrix with all zeros (Null Matrix), ones"
   ]
  },
  {
   "cell_type": "code",
   "execution_count": 20,
   "metadata": {},
   "outputs": [
    {
     "name": "stdout",
     "output_type": "stream",
     "text": [
      "[[0. 0. 0. 0.]\n",
      " [0. 0. 0. 0.]\n",
      " [0. 0. 0. 0.]\n",
      " [0. 0. 0. 0.]]\n",
      "\n",
      "The shape is: (4, 4)\n"
     ]
    }
   ],
   "source": [
    "m5 = np.zeros((4,4))\n",
    "\n",
    "print(m5)\n",
    "\n",
    "print()\n",
    "\n",
    "print(f\"The shape is: {m5.shape}\")"
   ]
  },
  {
   "cell_type": "code",
   "execution_count": 21,
   "metadata": {},
   "outputs": [
    {
     "name": "stdout",
     "output_type": "stream",
     "text": [
      "[[1. 1. 1. 1.]\n",
      " [1. 1. 1. 1.]\n",
      " [1. 1. 1. 1.]\n",
      " [1. 1. 1. 1.]]\n",
      "\n",
      "The shape is: (4, 4)\n"
     ]
    }
   ],
   "source": [
    "m6 = np.ones((4,4))\n",
    "\n",
    "print(m6)\n",
    "\n",
    "print()\n",
    "\n",
    "print(f\"The shape is: {m6.shape}\")"
   ]
  },
  {
   "cell_type": "code",
   "execution_count": 22,
   "metadata": {},
   "outputs": [
    {
     "name": "stdout",
     "output_type": "stream",
     "text": [
      "[[1 1 1 1]\n",
      " [1 1 1 1]\n",
      " [1 1 1 1]\n",
      " [1 1 1 1]]\n",
      "\n",
      "The shape is: (4, 4)\n"
     ]
    }
   ],
   "source": [
    "m7 = np.ones((4,4), dtype=int)\n",
    "\n",
    "print(m7)\n",
    "\n",
    "print()\n",
    "\n",
    "print(f\"The shape is: {m7.shape}\")"
   ]
  },
  {
   "cell_type": "markdown",
   "metadata": {},
   "source": [
    "Identity matrix"
   ]
  },
  {
   "cell_type": "code",
   "execution_count": 23,
   "metadata": {},
   "outputs": [
    {
     "name": "stdout",
     "output_type": "stream",
     "text": [
      "[[1. 0. 0.]\n",
      " [0. 1. 0.]\n",
      " [0. 0. 1.]]\n",
      "\n",
      "The shape is: (3, 3)\n"
     ]
    }
   ],
   "source": [
    "m8 = np.eye(3)\n",
    "\n",
    "print(m8)\n",
    "\n",
    "print()\n",
    "\n",
    "print(f\"The shape is: {m8.shape}\")"
   ]
  },
  {
   "cell_type": "code",
   "execution_count": 24,
   "metadata": {},
   "outputs": [
    {
     "name": "stdout",
     "output_type": "stream",
     "text": [
      "[[1 0 0]\n",
      " [0 1 0]\n",
      " [0 0 1]]\n",
      "\n",
      "The shape is: (3, 3)\n"
     ]
    }
   ],
   "source": [
    "m9 = np.eye(3, dtype=int)\n",
    "\n",
    "print(m9)\n",
    "\n",
    "print()\n",
    "\n",
    "print(f\"The shape is: {m9.shape}\")"
   ]
  },
  {
   "cell_type": "markdown",
   "metadata": {},
   "source": [
    "Transpose matrix"
   ]
  },
  {
   "cell_type": "code",
   "execution_count": 25,
   "metadata": {},
   "outputs": [
    {
     "name": "stdout",
     "output_type": "stream",
     "text": [
      "[[53 98 87 71 74]\n",
      " [86 78 88 63 63]\n",
      " [24 21  3 65 50]\n",
      " [29 92 75 17 53]]\n",
      "\n",
      "The shape is: (4, 5)\n"
     ]
    }
   ],
   "source": [
    "m10 = np.random.randint(100, size=(4,5))\n",
    "\n",
    "print(m10)\n",
    "\n",
    "print()\n",
    "\n",
    "print(f\"The shape is: {m10.shape}\")"
   ]
  },
  {
   "cell_type": "code",
   "execution_count": 28,
   "metadata": {},
   "outputs": [
    {
     "name": "stdout",
     "output_type": "stream",
     "text": [
      "[[53 86 24 29]\n",
      " [98 78 21 92]\n",
      " [87 88  3 75]\n",
      " [71 63 65 17]\n",
      " [74 63 50 53]]\n",
      "\n",
      "The shape is: (5, 4)\n"
     ]
    }
   ],
   "source": [
    "m10_transpose = np.transpose(m10)\n",
    "\n",
    "print(m10_transpose)\n",
    "\n",
    "print()\n",
    "\n",
    "print(f\"The shape is: {m10_transpose.shape}\")"
   ]
  }
 ],
 "metadata": {
  "kernelspec": {
   "display_name": "Python 3.10.4 ('ml_venv': venv)",
   "language": "python",
   "name": "python3"
  },
  "language_info": {
   "codemirror_mode": {
    "name": "ipython",
    "version": 3
   },
   "file_extension": ".py",
   "mimetype": "text/x-python",
   "name": "python",
   "nbconvert_exporter": "python",
   "pygments_lexer": "ipython3",
   "version": "3.10.4"
  },
  "orig_nbformat": 4,
  "vscode": {
   "interpreter": {
    "hash": "272bd001f21b68a2213b0c1280dde55559bfba749cceffeca64df063ee36ec83"
   }
  }
 },
 "nbformat": 4,
 "nbformat_minor": 2
}
