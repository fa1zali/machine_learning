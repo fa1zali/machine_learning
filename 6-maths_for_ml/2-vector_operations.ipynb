{
 "cells": [
  {
   "cell_type": "code",
   "execution_count": 7,
   "metadata": {},
   "outputs": [],
   "source": [
    "# import libraries\n",
    "\n",
    "import numpy as np"
   ]
  },
  {
   "cell_type": "markdown",
   "metadata": {},
   "source": [
    "Dot product of 2 vectors"
   ]
  },
  {
   "cell_type": "code",
   "execution_count": 8,
   "metadata": {},
   "outputs": [
    {
     "name": "stdout",
     "output_type": "stream",
     "text": [
      "20\n"
     ]
    }
   ],
   "source": [
    "vector_1 = np.array([2,3])\n",
    "vector_2 = np.array([4,4])\n",
    "\n",
    "c = np.dot(vector_1, vector_2)\n",
    "\n",
    "print(c)"
   ]
  },
  {
   "cell_type": "code",
   "execution_count": 9,
   "metadata": {},
   "outputs": [
    {
     "name": "stdout",
     "output_type": "stream",
     "text": [
      "4980\n"
     ]
    }
   ],
   "source": [
    "vector_1 = np.array([40,20,35])\n",
    "vector_2 = np.array([53,24,68])\n",
    "\n",
    "c = np.dot(vector_1, vector_2)\n",
    "\n",
    "print(c)"
   ]
  },
  {
   "cell_type": "markdown",
   "metadata": {},
   "source": [
    "Cross product of 2 vectors"
   ]
  },
  {
   "cell_type": "code",
   "execution_count": 10,
   "metadata": {},
   "outputs": [
    {
     "name": "stdout",
     "output_type": "stream",
     "text": [
      "-4\n"
     ]
    }
   ],
   "source": [
    "vector_1 = np.array([2,3])\n",
    "vector_2 = np.array([4,4])\n",
    "\n",
    "c = np.cross(vector_1, vector_2)\n",
    "\n",
    "print(c)"
   ]
  },
  {
   "cell_type": "code",
   "execution_count": 11,
   "metadata": {},
   "outputs": [
    {
     "name": "stdout",
     "output_type": "stream",
     "text": [
      "[ 520 -865 -100]\n"
     ]
    }
   ],
   "source": [
    "vector_1 = np.array([40,20,35])\n",
    "vector_2 = np.array([53,24,68])\n",
    "\n",
    "c = np.cross(vector_1, vector_2)\n",
    "\n",
    "print(c)"
   ]
  },
  {
   "cell_type": "markdown",
   "metadata": {},
   "source": [
    "Projection of vectors"
   ]
  },
  {
   "cell_type": "code",
   "execution_count": 13,
   "metadata": {},
   "outputs": [
    {
     "name": "stdout",
     "output_type": "stream",
     "text": [
      "20\n",
      "5.656854249492381\n",
      "[2.5 2.5]\n"
     ]
    }
   ],
   "source": [
    "vector_1 = np.array([2,3])\n",
    "vector_2 = np.array([4,4])\n",
    "\n",
    "# dot product of vectors\n",
    "c = np.dot(vector_1, vector_2)\n",
    "print(c)\n",
    "\n",
    "# magnitude of vector_v2\n",
    "magnitude = np.sqrt(sum(vector_2**2))\n",
    "print(magnitude)\n",
    "\n",
    "# projection\n",
    "projection_vector_1_on_vector_2 = (c/(magnitude**2)) * vector_2\n",
    "print(projection_vector_1_on_vector_2)"
   ]
  },
  {
   "cell_type": "code",
   "execution_count": 14,
   "metadata": {},
   "outputs": [
    {
     "name": "stdout",
     "output_type": "stream",
     "text": [
      "4980\n",
      "89.49301648732151\n",
      "[32.95542515 14.92321139 42.28243226]\n"
     ]
    }
   ],
   "source": [
    "vector_1 = np.array([40,20,35])\n",
    "vector_2 = np.array([53,24,68])\n",
    "\n",
    "# dot product of vectors\n",
    "c = np.dot(vector_1, vector_2)\n",
    "print(c)\n",
    "\n",
    "# magnitude of vector_v2\n",
    "magnitude = np.sqrt(sum(vector_2**2))\n",
    "print(magnitude)\n",
    "\n",
    "# projection\n",
    "projection_vector_1_on_vector_2 = (c/(magnitude**2)) * vector_2\n",
    "print(projection_vector_1_on_vector_2)"
   ]
  }
 ],
 "metadata": {
  "kernelspec": {
   "display_name": "Python 3.10.4 ('ml_venv': venv)",
   "language": "python",
   "name": "python3"
  },
  "language_info": {
   "codemirror_mode": {
    "name": "ipython",
    "version": 3
   },
   "file_extension": ".py",
   "mimetype": "text/x-python",
   "name": "python",
   "nbconvert_exporter": "python",
   "pygments_lexer": "ipython3",
   "version": "3.10.4"
  },
  "orig_nbformat": 4,
  "vscode": {
   "interpreter": {
    "hash": "272bd001f21b68a2213b0c1280dde55559bfba749cceffeca64df063ee36ec83"
   }
  }
 },
 "nbformat": 4,
 "nbformat_minor": 2
}
