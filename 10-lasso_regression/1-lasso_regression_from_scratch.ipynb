{
 "cells": [
  {
   "cell_type": "markdown",
   "metadata": {},
   "source": [
    "**Lasso Regression**\n",
    "\n",
    "Y = wX + b\n",
    "\n",
    "Y: Dependent Variable\n",
    "X: Independant Variable\n",
    "w: weight\n",
    "b: bias\n",
    "\n",
    "**Gradient Descent**\n",
    "\n",
    "Gradient Descent is an optimization algorithm used for minimizing the loss function in various ML algorithms.\n",
    "It is used for updating the parameters of the learning model.\n",
    "\n",
    "w = w - L*dw\n",
    "b = b - L*db"
   ]
  },
  {
   "cell_type": "code",
   "execution_count": 1,
   "metadata": {},
   "outputs": [],
   "source": [
    "# import library\n",
    "import numpy as np"
   ]
  },
  {
   "cell_type": "markdown",
   "metadata": {},
   "source": [
    "**Lasso Regression**"
   ]
  },
  {
   "cell_type": "code",
   "execution_count": null,
   "metadata": {},
   "outputs": [],
   "source": [
    "class LassoRegression():\n",
    "\n",
    "    # initiate hyperparameters\n",
    "    def __init__(self, learning_rate, iteration_count, penalty):\n",
    "        self.learning_rate = learning_rate\n",
    "        self.iteration_count = iteration_count\n",
    "        self.penalty = penalty\n",
    "    \n",
    "    # fit data to the model\n",
    "    def fit(self, X, Y):\n",
    "\n",
    "        self.X = X\n",
    "        self.Y = Y\n",
    "\n",
    "        # m: number of datapoints/rows\n",
    "        # n: number of input features/columns\n",
    "        self.m, self.n = X.shape\n",
    "\n",
    "        # initiating weight and bias\n",
    "        self.w = np.zeros(self.n)\n",
    "        self.b = 0\n",
    "\n",
    "        # implement gradient descent for optimization\n",
    "\n",
    "        for i in range(self.iteration_count):\n",
    "            self.update_weights()\n",
    "\n",
    "    # updates weight and bias values\n",
    "    def update_weights(self):\n",
    "        \n",
    "        # linear equation of the model\n",
    "        y_prediction = self.predict(self.X)\n",
    "\n",
    "        # gradients dw & db\n",
    "        self.dw = np.zeros(self.n)\n",
    "\n",
    "        for i in range(self.n):\n",
    "            if self.w[i] > 0:\n",
    "                self.dw[i] = (-(2*(self.X[:,i]).dot(self.Y - y_prediction)) + self.penalty) / self.m\n",
    "            \n",
    "            else:\n",
    "                self.dw[i] = (-(2*(self.X[:,i]).dot(self.Y - y_prediction)) - self.penalty) / self.m\n",
    "\n",
    "        db = -2 * np.sum(self.Y - y_prediction) / self.m\n",
    "\n",
    "        # update weight and bias\n",
    "        self.w -= self.learning_rate * self.dw\n",
    "        self.b -= self.learning_rate * self.db\n",
    "\n",
    "    # predicting target variable\n",
    "    def predict(self, X):\n",
    "        \n",
    "        return X.dot(self.w) + self.b\n"
   ]
  }
 ],
 "metadata": {
  "kernelspec": {
   "display_name": "Python 3.10.4 ('ml_venv')",
   "language": "python",
   "name": "python3"
  },
  "language_info": {
   "codemirror_mode": {
    "name": "ipython",
    "version": 3
   },
   "file_extension": ".py",
   "mimetype": "text/x-python",
   "name": "python",
   "nbconvert_exporter": "python",
   "pygments_lexer": "ipython3",
   "version": "3.10.4"
  },
  "orig_nbformat": 4,
  "vscode": {
   "interpreter": {
    "hash": "00c7f7148def4b0bf9c187296c070d612b78037f62aca7909b00945e7f76ce2b"
   }
  }
 },
 "nbformat": 4,
 "nbformat_minor": 2
}
