{
 "cells": [
  {
   "cell_type": "code",
   "execution_count": 2,
   "metadata": {},
   "outputs": [],
   "source": [
    "import numpy as np"
   ]
  },
  {
   "cell_type": "markdown",
   "metadata": {},
   "source": [
    "# Arrays using lists"
   ]
  },
  {
   "cell_type": "markdown",
   "metadata": {},
   "source": [
    "## 1d array"
   ]
  },
  {
   "cell_type": "code",
   "execution_count": 3,
   "metadata": {},
   "outputs": [
    {
     "name": "stdout",
     "output_type": "stream",
     "text": [
      "x = [1 2 3 4 5]\n",
      "x has dimensions: (5,)\n",
      "x is an object of type: <class 'numpy.ndarray'>\n",
      "The elements in x are of type: int32\n"
     ]
    }
   ],
   "source": [
    "x = np.array([1,2,3,4,5])\n",
    "print(f\"x = {x}\")\n",
    "\n",
    "print(f\"x has dimensions: {x.shape}\")\n",
    "print(f\"x is an object of type: {type(x)}\")\n",
    "print(f\"The elements in x are of type: {x.dtype}\")"
   ]
  },
  {
   "cell_type": "markdown",
   "metadata": {},
   "source": [
    "## 2d arrays"
   ]
  },
  {
   "cell_type": "code",
   "execution_count": 4,
   "metadata": {},
   "outputs": [
    {
     "name": "stdout",
     "output_type": "stream",
     "text": [
      "y = [[1 2 3 4]\n",
      " [5 6 7 8]]\n",
      "y has dimensions: (2, 4)\n",
      "y is an object of type: <class 'numpy.ndarray'>\n",
      "The elements in y are of type: int32\n"
     ]
    }
   ],
   "source": [
    "# 2d array\n",
    "y = np.array([[1,2,3,4],[5,6,7,8]])\n",
    "print(f\"y = {y}\")\n",
    "\n",
    "print(f\"y has dimensions: {y.shape}\")\n",
    "print(f\"y is an object of type: {type(y)}\")\n",
    "print(f\"The elements in y are of type: {y.dtype}\")"
   ]
  },
  {
   "cell_type": "markdown",
   "metadata": {},
   "source": [
    "### Changing Data Type"
   ]
  },
  {
   "cell_type": "code",
   "execution_count": 5,
   "metadata": {},
   "outputs": [
    {
     "name": "stdout",
     "output_type": "stream",
     "text": [
      "[1 2 3 4 5]\n"
     ]
    }
   ],
   "source": [
    "# change datatype\n",
    "\n",
    "a = np.array([1.2, 2.7, 3.5, 4.8, 5.5], dtype=np.int64)\n",
    "print(a)"
   ]
  },
  {
   "cell_type": "markdown",
   "metadata": {},
   "source": [
    "### Saving & Loading Arrays"
   ]
  },
  {
   "cell_type": "code",
   "execution_count": 6,
   "metadata": {},
   "outputs": [],
   "source": [
    "# save the array for later use\n",
    "b = np.array([1,2,3,4])\n",
    "np.save('my_array', b)"
   ]
  },
  {
   "cell_type": "code",
   "execution_count": 7,
   "metadata": {},
   "outputs": [
    {
     "name": "stdout",
     "output_type": "stream",
     "text": [
      "[1 2 3 4]\n"
     ]
    }
   ],
   "source": [
    "# load the saved array\n",
    "c = np.load('my_array.npy')\n",
    "print(c)"
   ]
  },
  {
   "cell_type": "markdown",
   "metadata": {},
   "source": [
    "# Arrays using built in functions"
   ]
  },
  {
   "cell_type": "code",
   "execution_count": 8,
   "metadata": {},
   "outputs": [
    {
     "name": "stdout",
     "output_type": "stream",
     "text": [
      "[[0. 0. 0. 0.]\n",
      " [0. 0. 0. 0.]\n",
      " [0. 0. 0. 0.]]\n"
     ]
    }
   ],
   "source": [
    "d = np.zeros((3,4))\n",
    "print(d)"
   ]
  },
  {
   "cell_type": "code",
   "execution_count": 9,
   "metadata": {},
   "outputs": [
    {
     "name": "stdout",
     "output_type": "stream",
     "text": [
      "[[1. 1. 1. 1.]\n",
      " [1. 1. 1. 1.]\n",
      " [1. 1. 1. 1.]]\n"
     ]
    }
   ],
   "source": [
    "e = np.ones((3,4))\n",
    "print(e)"
   ]
  },
  {
   "cell_type": "code",
   "execution_count": 10,
   "metadata": {},
   "outputs": [
    {
     "name": "stdout",
     "output_type": "stream",
     "text": [
      "[[3 3 3]\n",
      " [3 3 3]]\n"
     ]
    }
   ],
   "source": [
    "f = np.full((2,3), 3)\n",
    "print(f)"
   ]
  },
  {
   "cell_type": "markdown",
   "metadata": {},
   "source": [
    "## Identity array"
   ]
  },
  {
   "cell_type": "code",
   "execution_count": 11,
   "metadata": {},
   "outputs": [
    {
     "name": "stdout",
     "output_type": "stream",
     "text": [
      "[[1. 0. 0. 0.]\n",
      " [0. 1. 0. 0.]\n",
      " [0. 0. 1. 0.]\n",
      " [0. 0. 0. 1.]]\n"
     ]
    }
   ],
   "source": [
    "g = np.eye(4)\n",
    "print(g)"
   ]
  },
  {
   "cell_type": "markdown",
   "metadata": {},
   "source": [
    "## Diagonal Array"
   ]
  },
  {
   "cell_type": "code",
   "execution_count": 12,
   "metadata": {},
   "outputs": [
    {
     "name": "stdout",
     "output_type": "stream",
     "text": [
      "[[10  0  0  0  0]\n",
      " [ 0 20  0  0  0]\n",
      " [ 0  0 30  0  0]\n",
      " [ 0  0  0 40  0]\n",
      " [ 0  0  0  0 50]]\n"
     ]
    }
   ],
   "source": [
    "h = np.diag([10,20,30,40,50])\n",
    "print(h)"
   ]
  },
  {
   "cell_type": "markdown",
   "metadata": {},
   "source": [
    "## Random nd arrays"
   ]
  },
  {
   "cell_type": "code",
   "execution_count": 13,
   "metadata": {},
   "outputs": [
    {
     "name": "stdout",
     "output_type": "stream",
     "text": [
      "[[0.72854797 0.69685071 0.4406814 ]\n",
      " [0.89744268 0.8977565  0.34047553]\n",
      " [0.92053152 0.69921281 0.41351016]]\n"
     ]
    }
   ],
   "source": [
    "i = np.random.random((3,3))\n",
    "print(i)"
   ]
  },
  {
   "cell_type": "code",
   "execution_count": 14,
   "metadata": {},
   "outputs": [
    {
     "name": "stdout",
     "output_type": "stream",
     "text": [
      "[[4 3 4]\n",
      " [4 2 2]\n",
      " [1 2 2]]\n"
     ]
    }
   ],
   "source": [
    "j = np.random.randint(1,5,size=(3,3))\n",
    "print(j)"
   ]
  },
  {
   "cell_type": "markdown",
   "metadata": {},
   "source": [
    "## Evenly spaced arrays"
   ]
  },
  {
   "cell_type": "code",
   "execution_count": 15,
   "metadata": {},
   "outputs": [
    {
     "name": "stdout",
     "output_type": "stream",
     "text": [
      "[0 1 2 3 4 5 6 7 8 9]\n",
      "[4 5 6 7 8 9]\n",
      "[ 1  4  7 10 13]\n"
     ]
    }
   ],
   "source": [
    "k = np.arange(10)\n",
    "print(k)\n",
    "l = np.arange(4,10)\n",
    "print(l)\n",
    "m = np.arange(1,14,3)\n",
    "print(m)"
   ]
  },
  {
   "cell_type": "code",
   "execution_count": 16,
   "metadata": {},
   "outputs": [
    {
     "name": "stdout",
     "output_type": "stream",
     "text": [
      "[ 1.   5.5 10. ]\n"
     ]
    }
   ],
   "source": [
    "n = np.linspace(1,10,3)\n",
    "print(n)"
   ]
  },
  {
   "cell_type": "code",
   "execution_count": 17,
   "metadata": {},
   "outputs": [
    {
     "name": "stdout",
     "output_type": "stream",
     "text": [
      "[[ 0  1  2  3  4]\n",
      " [ 5  6  7  8  9]\n",
      " [10 11 12 13 14]\n",
      " [15 16 17 18 19]]\n"
     ]
    }
   ],
   "source": [
    "o = np.arange(20).reshape(4,5)\n",
    "print(o)"
   ]
  },
  {
   "cell_type": "markdown",
   "metadata": {},
   "source": [
    "# Array Analysis"
   ]
  },
  {
   "cell_type": "code",
   "execution_count": 18,
   "metadata": {},
   "outputs": [
    {
     "name": "stdout",
     "output_type": "stream",
     "text": [
      "[[65 71 76 68 52]\n",
      " [17 59 28 51 21]\n",
      " [86 21 40 61 30]\n",
      " [73 25 19 31 43]\n",
      " [24 34 13 79 61]]\n"
     ]
    }
   ],
   "source": [
    "p = np.random.randint(10,90,(5,5))\n",
    "print(p)"
   ]
  },
  {
   "cell_type": "code",
   "execution_count": 19,
   "metadata": {},
   "outputs": [
    {
     "name": "stdout",
     "output_type": "stream",
     "text": [
      "(5, 5)\n"
     ]
    }
   ],
   "source": [
    "print(p.shape)"
   ]
  },
  {
   "cell_type": "code",
   "execution_count": 20,
   "metadata": {},
   "outputs": [
    {
     "name": "stdout",
     "output_type": "stream",
     "text": [
      "2\n"
     ]
    }
   ],
   "source": [
    "print(p.ndim)"
   ]
  },
  {
   "cell_type": "code",
   "execution_count": 21,
   "metadata": {},
   "outputs": [
    {
     "name": "stdout",
     "output_type": "stream",
     "text": [
      "25\n"
     ]
    }
   ],
   "source": [
    "print(p.size)"
   ]
  },
  {
   "cell_type": "code",
   "execution_count": 22,
   "metadata": {},
   "outputs": [
    {
     "name": "stdout",
     "output_type": "stream",
     "text": [
      "int32\n"
     ]
    }
   ],
   "source": [
    "print(p.dtype)"
   ]
  },
  {
   "cell_type": "markdown",
   "metadata": {},
   "source": [
    "# Arithematic Operations"
   ]
  },
  {
   "cell_type": "code",
   "execution_count": 23,
   "metadata": {},
   "outputs": [],
   "source": [
    "q = np.array([1,2,3,4,5])\n",
    "r = np.array([1.5,2.5,3.5,4.5,5.5])"
   ]
  },
  {
   "cell_type": "code",
   "execution_count": 24,
   "metadata": {},
   "outputs": [
    {
     "name": "stdout",
     "output_type": "stream",
     "text": [
      "[ 2.5  4.5  6.5  8.5 10.5]\n",
      "\n",
      "\n",
      "[ 2.5  4.5  6.5  8.5 10.5]\n"
     ]
    }
   ],
   "source": [
    "print(q + r)\n",
    "print('\\n')\n",
    "print(np.add(q,r))"
   ]
  },
  {
   "cell_type": "code",
   "execution_count": 25,
   "metadata": {},
   "outputs": [
    {
     "name": "stdout",
     "output_type": "stream",
     "text": [
      "[-0.5 -0.5 -0.5 -0.5 -0.5]\n",
      "\n",
      "\n",
      "[-0.5 -0.5 -0.5 -0.5 -0.5]\n"
     ]
    }
   ],
   "source": [
    "print(q - r)\n",
    "print('\\n')\n",
    "print(np.subtract(q,r))"
   ]
  },
  {
   "cell_type": "code",
   "execution_count": 26,
   "metadata": {},
   "outputs": [
    {
     "name": "stdout",
     "output_type": "stream",
     "text": [
      "[ 1.5  5.  10.5 18.  27.5]\n",
      "\n",
      "\n",
      "[ 1.5  5.  10.5 18.  27.5]\n"
     ]
    }
   ],
   "source": [
    "print(q * r)\n",
    "print('\\n')\n",
    "print(np.multiply(q,r))"
   ]
  },
  {
   "cell_type": "code",
   "execution_count": 27,
   "metadata": {},
   "outputs": [
    {
     "name": "stdout",
     "output_type": "stream",
     "text": [
      "[0.66666667 0.8        0.85714286 0.88888889 0.90909091]\n",
      "\n",
      "\n",
      "[0.66666667 0.8        0.85714286 0.88888889 0.90909091]\n"
     ]
    }
   ],
   "source": [
    "print(q / r)\n",
    "print('\\n')\n",
    "print(np.divide(q,r))"
   ]
  },
  {
   "cell_type": "code",
   "execution_count": 28,
   "metadata": {},
   "outputs": [
    {
     "name": "stdout",
     "output_type": "stream",
     "text": [
      "[  2.71828183   7.3890561   20.08553692  54.59815003 148.4131591 ]\n",
      "[1.         1.41421356 1.73205081 2.         2.23606798]\n",
      "[ 1  4  9 16 25]\n"
     ]
    }
   ],
   "source": [
    "print(np.exp(q))\n",
    "print(np.sqrt(q))\n",
    "print(np.power(q,2))"
   ]
  },
  {
   "cell_type": "markdown",
   "metadata": {},
   "source": [
    "# Transpose Array"
   ]
  },
  {
   "cell_type": "code",
   "execution_count": 29,
   "metadata": {},
   "outputs": [
    {
     "name": "stdout",
     "output_type": "stream",
     "text": [
      "[[7 4 3 6 2]\n",
      " [5 4 7 2 2]]\n",
      "(2, 5)\n",
      "[[7 5]\n",
      " [4 4]\n",
      " [3 7]\n",
      " [6 2]\n",
      " [2 2]]\n",
      "(5, 2)\n"
     ]
    }
   ],
   "source": [
    "s = np.random.randint(1,10,(2,5))\n",
    "print(s)\n",
    "print(s.shape)\n",
    "trans = np.transpose(s)\n",
    "print(trans)\n",
    "print(trans.shape)"
   ]
  },
  {
   "cell_type": "markdown",
   "metadata": {},
   "source": [
    "# Boolean Indexing"
   ]
  },
  {
   "cell_type": "code",
   "execution_count": 30,
   "metadata": {},
   "outputs": [
    {
     "name": "stdout",
     "output_type": "stream",
     "text": [
      "[[ 0  1  2  3  4]\n",
      " [ 5  6  7  8  9]\n",
      " [10 11 12 13 14]\n",
      " [15 16 17 18 19]\n",
      " [20 21 22 23 24]]\n"
     ]
    }
   ],
   "source": [
    "t = np.arange(25).reshape(5,5)\n",
    "print(t)"
   ]
  },
  {
   "cell_type": "code",
   "execution_count": 31,
   "metadata": {},
   "outputs": [
    {
     "name": "stdout",
     "output_type": "stream",
     "text": [
      "[11 12 13 14 15 16 17 18 19 20 21 22 23 24]\n"
     ]
    }
   ],
   "source": [
    "print(t[t>10])"
   ]
  },
  {
   "cell_type": "code",
   "execution_count": 32,
   "metadata": {},
   "outputs": [
    {
     "name": "stdout",
     "output_type": "stream",
     "text": [
      "[0 1 2 3 4 5 6 7]\n"
     ]
    }
   ],
   "source": [
    "print(t[t<=7])"
   ]
  },
  {
   "cell_type": "code",
   "execution_count": 33,
   "metadata": {},
   "outputs": [
    {
     "name": "stdout",
     "output_type": "stream",
     "text": [
      "[11 12 13 14 15 16]\n"
     ]
    }
   ],
   "source": [
    "print(t[(t > 10) & (t < 17)])"
   ]
  },
  {
   "cell_type": "code",
   "execution_count": 34,
   "metadata": {},
   "outputs": [
    {
     "name": "stdout",
     "output_type": "stream",
     "text": [
      "[[ 0  1  2  3  4]\n",
      " [ 5  6  7  8  9]\n",
      " [10 -1 -1 -1 -1]\n",
      " [-1 -1 17 18 19]\n",
      " [20 21 22 23 24]]\n"
     ]
    }
   ],
   "source": [
    "t[(t > 10) & (t < 17)] = -1\n",
    "print(t)"
   ]
  },
  {
   "cell_type": "markdown",
   "metadata": {},
   "source": [
    "# Set Operations"
   ]
  },
  {
   "cell_type": "code",
   "execution_count": 35,
   "metadata": {},
   "outputs": [],
   "source": [
    "u = np.array([1,2,3,4,5])\n",
    "v = np.array([6,7,2,8,4])"
   ]
  },
  {
   "cell_type": "code",
   "execution_count": 36,
   "metadata": {},
   "outputs": [
    {
     "name": "stdout",
     "output_type": "stream",
     "text": [
      "Elements present in both u and v: [2 4]\n",
      "Elements present in u that are not in v: [1 3 5]\n",
      "All elements of u and v: [1 2 3 4 5 6 7 8]\n"
     ]
    }
   ],
   "source": [
    "print(f\"Elements present in both u and v: {np.intersect1d(u,v)}\")\n",
    "print(f\"Elements present in u that are not in v: {np.setdiff1d(u,v)}\")\n",
    "print(f\"All elements of u and v: {np.union1d(u,v)}\")"
   ]
  },
  {
   "cell_type": "markdown",
   "metadata": {},
   "source": [
    "# Sorting"
   ]
  },
  {
   "cell_type": "markdown",
   "metadata": {},
   "source": [
    "## 1d array"
   ]
  },
  {
   "cell_type": "code",
   "execution_count": 37,
   "metadata": {},
   "outputs": [
    {
     "name": "stdout",
     "output_type": "stream",
     "text": [
      "Before sorting: [ 9  1  5  7  5  6  1 10  4  8]\n"
     ]
    }
   ],
   "source": [
    "w = np.random.randint(1, 11, size = (10))\n",
    "print(f\"Before sorting: {w}\")"
   ]
  },
  {
   "cell_type": "code",
   "execution_count": 38,
   "metadata": {},
   "outputs": [
    {
     "name": "stdout",
     "output_type": "stream",
     "text": [
      "After Sorting (out of place): [ 1  1  4  5  5  6  7  8  9 10]\n",
      "After sorting: [ 9  1  5  7  5  6  1 10  4  8]\n"
     ]
    }
   ],
   "source": [
    "print(f\"After Sorting (out of place): {np.sort(w)}\") # Used as a function\n",
    "print(f\"After sorting: {w}\") # Original array remain intact"
   ]
  },
  {
   "cell_type": "code",
   "execution_count": 39,
   "metadata": {},
   "outputs": [
    {
     "name": "stdout",
     "output_type": "stream",
     "text": [
      "After Sorting (In place): [ 1  1  4  5  5  6  7  8  9 10]\n"
     ]
    }
   ],
   "source": [
    "w.sort() # Used as a method\n",
    "print(f\"After Sorting (In place): {w}\")"
   ]
  },
  {
   "cell_type": "code",
   "execution_count": 40,
   "metadata": {},
   "outputs": [
    {
     "name": "stdout",
     "output_type": "stream",
     "text": [
      "After Sorting (Unique values): [ 1  4  5  6  7  8  9 10]\n"
     ]
    }
   ],
   "source": [
    "print(f\"After Sorting (Unique values): {np.sort(np.unique(w))}\")"
   ]
  },
  {
   "cell_type": "markdown",
   "metadata": {},
   "source": [
    "## 2d array"
   ]
  },
  {
   "cell_type": "code",
   "execution_count": 41,
   "metadata": {},
   "outputs": [
    {
     "name": "stdout",
     "output_type": "stream",
     "text": [
      "Original array x:\n",
      "[[ 9  4  9  1 10]\n",
      " [ 2  6  7 10  1]\n",
      " [ 9  4  7  2  9]\n",
      " [ 3  2  2  3  9]\n",
      " [ 4  2  4  7  5]]\n"
     ]
    }
   ],
   "source": [
    "x = np.random.randint(1, 11, size = (5,5))\n",
    "print(f\"Original array x:\\n{x}\")"
   ]
  },
  {
   "cell_type": "code",
   "execution_count": 42,
   "metadata": {},
   "outputs": [
    {
     "name": "stdout",
     "output_type": "stream",
     "text": [
      "x with sorted columns:\n",
      "[[ 2  2  2  1  1]\n",
      " [ 3  2  4  2  5]\n",
      " [ 4  4  7  3  9]\n",
      " [ 9  4  7  7  9]\n",
      " [ 9  6  9 10 10]]\n"
     ]
    }
   ],
   "source": [
    "print(f\"x with sorted columns:\\n{np.sort(x, axis=0)}\")"
   ]
  },
  {
   "cell_type": "code",
   "execution_count": 43,
   "metadata": {},
   "outputs": [
    {
     "name": "stdout",
     "output_type": "stream",
     "text": [
      "x with sorted rows:\n",
      "[[ 1  4  9  9 10]\n",
      " [ 1  2  6  7 10]\n",
      " [ 2  4  7  9  9]\n",
      " [ 2  2  3  3  9]\n",
      " [ 2  4  4  5  7]]\n"
     ]
    }
   ],
   "source": [
    "print(f\"x with sorted rows:\\n{np.sort(x, axis=1)}\")"
   ]
  },
  {
   "cell_type": "markdown",
   "metadata": {},
   "source": [
    "### Accessing, Inserting & Deleting elements into nd Arrays"
   ]
  },
  {
   "cell_type": "code",
   "execution_count": 44,
   "metadata": {},
   "outputs": [
    {
     "name": "stdout",
     "output_type": "stream",
     "text": [
      "The original array is: [1 2 3 4 5]\n",
      "The second element in the array is: 2\n",
      "The updated array is: [ 1  2  3 20  5]\n"
     ]
    }
   ],
   "source": [
    "y = np.array([1,2,3,4,5])\n",
    "\n",
    "print(f\"The original array is: {y}\")\n",
    "print(f\"The second element in the array is: {y[1]}\")\n",
    "\n",
    "y[3] = 20 # Update element using index position\n",
    "print(f\"The updated array is: {y}\")"
   ]
  },
  {
   "cell_type": "code",
   "execution_count": 45,
   "metadata": {},
   "outputs": [
    {
     "name": "stdout",
     "output_type": "stream",
     "text": [
      "The original array is:\n",
      "[[1 2 3]\n",
      " [4 5 6]\n",
      " [7 8 9]]\n",
      "The element at (1,1) in the array is: 5\n",
      "The updated array is:\n",
      "[[20  2  3]\n",
      " [ 4  5  6]\n",
      " [ 7  8  9]]\n"
     ]
    }
   ],
   "source": [
    "z = np.array([[1,2,3], [4,5,6], [7,8,9]])\n",
    "\n",
    "print(f\"The original array is:\\n{z}\")\n",
    "print(f\"The element at (1,1) in the array is: {z[1,1]}\")\n",
    "\n",
    "z[0,0] = 20 # Update element using index position\n",
    "print(f\"The updated array is:\\n{z}\")"
   ]
  },
  {
   "cell_type": "code",
   "execution_count": 46,
   "metadata": {},
   "outputs": [
    {
     "name": "stdout",
     "output_type": "stream",
     "text": [
      "The updated array is: [ 2  3 20]\n",
      "The updated array is:\n",
      "[[4 5 6]\n",
      " [7 8 9]]\n",
      "The updated array is:\n",
      "[[5]\n",
      " [8]]\n"
     ]
    }
   ],
   "source": [
    "# Deleting elements\n",
    "y = np.delete(y, [0,4])\n",
    "print(f\"The updated array is: {y}\")\n",
    "\n",
    "z = np.delete(z, 0, axis = 0)\n",
    "print(f\"The updated array is:\\n{z}\")\n",
    "\n",
    "z = np.delete(z, [0,2], axis = 1)\n",
    "print(f\"The updated array is:\\n{z}\")"
   ]
  },
  {
   "cell_type": "code",
   "execution_count": 47,
   "metadata": {},
   "outputs": [
    {
     "name": "stdout",
     "output_type": "stream",
     "text": [
      "The updated array is: [1 2 3 4 5 6]\n",
      "The updated array is:\n",
      "[[ 1  2  3]\n",
      " [ 4  5  6]\n",
      " [ 7  8  9]\n",
      " [10 11 12]]\n"
     ]
    }
   ],
   "source": [
    "# Appending values\n",
    "y = np.array([1,2,3,4,5])\n",
    "z = np.array([[1,2,3], [4,5,6], [7,8,9]])\n",
    "\n",
    "y = np.append(y, 6)\n",
    "print(f\"The updated array is: {y}\")\n",
    "\n",
    "\n",
    "z = np.append(z, [[10,11,12]], axis = 0)\n",
    "print(f\"The updated array is:\\n{z}\")"
   ]
  },
  {
   "cell_type": "code",
   "execution_count": 48,
   "metadata": {},
   "outputs": [
    {
     "name": "stdout",
     "output_type": "stream",
     "text": [
      "The updated array is: [ 1 10 11  2  3  4  5]\n",
      "The updated array is:\n",
      "[[10 11 12]\n",
      " [ 1  2  3]\n",
      " [ 4  5  6]\n",
      " [ 7  8  9]]\n",
      "The updated array is:\n",
      "[[100  10  11  12]\n",
      " [111   1   2   3]\n",
      " [122   4   5   6]\n",
      " [134   7   8   9]]\n"
     ]
    }
   ],
   "source": [
    "# Inserting values\n",
    "y = np.array([1,2,3,4,5])\n",
    "z = np.array([[1,2,3], [4,5,6], [7,8,9]])\n",
    "\n",
    "y = np.insert(y, 1, [10, 11])\n",
    "print(f\"The updated array is: {y}\")\n",
    "\n",
    "z = np.insert(z, 0, [[10,11,12]], axis = 0)\n",
    "print(f\"The updated array is:\\n{z}\")\n",
    "\n",
    "z = np.insert(z, 0, [[100,111,122, 134]], axis = 1)\n",
    "print(f\"The updated array is:\\n{z}\")\n"
   ]
  },
  {
   "cell_type": "code",
   "execution_count": 49,
   "metadata": {},
   "outputs": [
    {
     "name": "stdout",
     "output_type": "stream",
     "text": [
      "The updated array is:\n",
      "[[3 4 1]\n",
      " [5 6 2]]\n",
      "The updated array is:\n",
      "[[1 2]\n",
      " [3 4]\n",
      " [5 6]]\n"
     ]
    }
   ],
   "source": [
    "# Stacking arrays\n",
    "\n",
    "x = np.array([1,2])\n",
    "y = np.array([[3,4], [5,6]])\n",
    "\n",
    "z = np.hstack((y, x.reshape(2,1)))\n",
    "print(f\"The updated array is:\\n{z}\")\n",
    "\n",
    "w = np.vstack((x,y))\n",
    "print(f\"The updated array is:\\n{w}\")"
   ]
  },
  {
   "cell_type": "markdown",
   "metadata": {},
   "source": [
    "# Slicing nd arrays"
   ]
  },
  {
   "cell_type": "code",
   "execution_count": 50,
   "metadata": {},
   "outputs": [
    {
     "name": "stdout",
     "output_type": "stream",
     "text": [
      "Original array:\n",
      "[[ 0  1  2  3  4]\n",
      " [ 5  6  7  8  9]\n",
      " [10 11 12 13 14]\n",
      " [15 16 17 18 19]]\n"
     ]
    }
   ],
   "source": [
    "x = np.arange(20).reshape(4,5)\n",
    "print(f\"Original array:\\n{x}\")"
   ]
  },
  {
   "cell_type": "code",
   "execution_count": 51,
   "metadata": {},
   "outputs": [
    {
     "name": "stdout",
     "output_type": "stream",
     "text": [
      "[[ 7  8  9]\n",
      " [12 13 14]\n",
      " [17 18 19]]\n"
     ]
    }
   ],
   "source": [
    "# Select all elements from 2nd till 4th row and in 3rd to 5th column\n",
    "\n",
    "z = x[1:4, 2:5]\n",
    "print(z)"
   ]
  },
  {
   "cell_type": "code",
   "execution_count": 52,
   "metadata": {},
   "outputs": [
    {
     "name": "stdout",
     "output_type": "stream",
     "text": [
      "[[ 7  8  9]\n",
      " [12 13 14]\n",
      " [17 18 19]]\n"
     ]
    }
   ],
   "source": [
    "# Select elements from 2nd to last row and 3rd to 5th column\n",
    "w = x[1:, 2:5]\n",
    "print(w)"
   ]
  },
  {
   "cell_type": "code",
   "execution_count": 53,
   "metadata": {},
   "outputs": [
    {
     "name": "stdout",
     "output_type": "stream",
     "text": [
      "[[ 2  3  4]\n",
      " [ 7  8  9]\n",
      " [12 13 14]]\n"
     ]
    }
   ],
   "source": [
    "# Select elements from 1st to 3rd row and 3rd to 5th column\n",
    "y = x[:3, 2:5]\n",
    "print(y)"
   ]
  },
  {
   "cell_type": "code",
   "execution_count": 54,
   "metadata": {},
   "outputs": [
    {
     "name": "stdout",
     "output_type": "stream",
     "text": [
      "[10 11 12 13 14]\n"
     ]
    }
   ],
   "source": [
    "# Select all elements in 3rd row\n",
    "v = x[2, :]\n",
    "print(v)"
   ]
  },
  {
   "cell_type": "code",
   "execution_count": 55,
   "metadata": {},
   "outputs": [
    {
     "name": "stdout",
     "output_type": "stream",
     "text": [
      "[ 0  6 12 18]\n",
      "[ 1  7 13 19]\n",
      "[ 5 11 17]\n"
     ]
    }
   ],
   "source": [
    "# Extract diagonals\n",
    "\n",
    "print(np.diag(x))\n",
    "print(np.diag(x, k = 1))\n",
    "print(np.diag(x, k = -1))\n"
   ]
  },
  {
   "cell_type": "markdown",
   "metadata": {},
   "source": [
    "# Statistical functions"
   ]
  },
  {
   "cell_type": "code",
   "execution_count": 56,
   "metadata": {},
   "outputs": [
    {
     "name": "stdout",
     "output_type": "stream",
     "text": [
      "2.5\n",
      "[2. 3.]\n",
      "[1.5 3.5]\n",
      "10\n",
      "[4 6]\n",
      "[3 7]\n",
      "1.118033988749895\n",
      "[1. 1.]\n",
      "[0.5 0.5]\n",
      "2.5\n",
      "[2. 3.]\n",
      "[1.5 3.5]\n",
      "1\n",
      "[1 2]\n",
      "[1 3]\n",
      "4\n",
      "[3 4]\n",
      "[2 4]\n"
     ]
    }
   ],
   "source": [
    "x = np.array([[1,2], [3,4]])\n",
    "\n",
    "print(x.mean())\n",
    "print(x.mean(axis = 0))\n",
    "print(x.mean(axis = 1))\n",
    "print(x.sum())\n",
    "print(x.sum(axis = 0))\n",
    "print(x.sum(axis = 1))\n",
    "print(x.std())\n",
    "print(x.std(axis = 0))\n",
    "print(x.std(axis = 1))\n",
    "print(np.median(x))\n",
    "print(np.median(x, axis = 0))\n",
    "print(np.median(x, axis = 1))\n",
    "print(x.min())\n",
    "print(x.min(axis = 0))\n",
    "print(x.min(axis = 1))\n",
    "print(x.max())\n",
    "print(x.max(axis = 0))\n",
    "print(x.max(axis = 1))"
   ]
  }
 ],
 "metadata": {
  "kernelspec": {
   "display_name": "Python 3.10.4 ('ml_venv': venv)",
   "language": "python",
   "name": "python3"
  },
  "language_info": {
   "codemirror_mode": {
    "name": "ipython",
    "version": 3
   },
   "file_extension": ".py",
   "mimetype": "text/x-python",
   "name": "python",
   "nbconvert_exporter": "python",
   "pygments_lexer": "ipython3",
   "version": "3.10.4"
  },
  "orig_nbformat": 4,
  "vscode": {
   "interpreter": {
    "hash": "3150a1ef8a0d97fa9dbd24e7f5c20096409f2b95f1763c3b8111487c9c0024b3"
   }
  }
 },
 "nbformat": 4,
 "nbformat_minor": 2
}
