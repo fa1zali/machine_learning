{
 "cells": [
  {
   "cell_type": "code",
   "execution_count": null,
   "metadata": {},
   "outputs": [],
   "source": [
    "import numpy as np"
   ]
  },
  {
   "cell_type": "markdown",
   "metadata": {},
   "source": [
    "# Arrays using lists"
   ]
  },
  {
   "cell_type": "markdown",
   "metadata": {},
   "source": [
    "## 1d array"
   ]
  },
  {
   "cell_type": "code",
   "execution_count": null,
   "metadata": {},
   "outputs": [],
   "source": [
    "x = np.array([1,2,3,4,5])\n",
    "print(f\"x = {x}\")\n",
    "\n",
    "print(f\"x has dimensions: {x.shape}\")\n",
    "print(f\"x is an object of type: {type(x)}\")\n",
    "print(f\"The elements in x are of type: {x.dtype}\")"
   ]
  },
  {
   "cell_type": "markdown",
   "metadata": {},
   "source": [
    "## 2d arrays"
   ]
  },
  {
   "cell_type": "code",
   "execution_count": null,
   "metadata": {},
   "outputs": [],
   "source": [
    "# 2d array\n",
    "y = np.array([[1,2,3,4],[5,6,7,8]])\n",
    "print(f\"y = {y}\")\n",
    "\n",
    "print(f\"y has dimensions: {y.shape}\")\n",
    "print(f\"y is an object of type: {type(y)}\")\n",
    "print(f\"The elements in y are of type: {y.dtype}\")"
   ]
  },
  {
   "cell_type": "markdown",
   "metadata": {},
   "source": [
    "### Changing Data Type"
   ]
  },
  {
   "cell_type": "code",
   "execution_count": null,
   "metadata": {},
   "outputs": [],
   "source": [
    "# change datatype\n",
    "\n",
    "a = np.array([1.2, 2.7, 3.5, 4.8, 5.5], dtype=np.int64)\n",
    "print(a)"
   ]
  },
  {
   "cell_type": "markdown",
   "metadata": {},
   "source": [
    "### Saving & Loading Arrays"
   ]
  },
  {
   "cell_type": "code",
   "execution_count": null,
   "metadata": {},
   "outputs": [],
   "source": [
    "# save the array for later use\n",
    "b = np.array([1,2,3,4])\n",
    "np.save('my_array', b)"
   ]
  },
  {
   "cell_type": "code",
   "execution_count": null,
   "metadata": {},
   "outputs": [],
   "source": [
    "# load the saved array\n",
    "c = np.load('my_array.npy')\n",
    "print(c)"
   ]
  },
  {
   "cell_type": "markdown",
   "metadata": {},
   "source": [
    "# Arrays using built in functions"
   ]
  },
  {
   "cell_type": "code",
   "execution_count": null,
   "metadata": {},
   "outputs": [],
   "source": [
    "d = np.zeros((3,4))\n",
    "print(d)"
   ]
  },
  {
   "cell_type": "code",
   "execution_count": null,
   "metadata": {},
   "outputs": [],
   "source": [
    "e = np.ones((3,4))\n",
    "print(e)"
   ]
  },
  {
   "cell_type": "code",
   "execution_count": null,
   "metadata": {},
   "outputs": [],
   "source": [
    "f = np.full((2,3), 3)\n",
    "print(f)"
   ]
  },
  {
   "cell_type": "markdown",
   "metadata": {},
   "source": [
    "## Identity array"
   ]
  },
  {
   "cell_type": "code",
   "execution_count": null,
   "metadata": {},
   "outputs": [],
   "source": [
    "g = np.eye(4)\n",
    "print(g)"
   ]
  },
  {
   "cell_type": "markdown",
   "metadata": {},
   "source": [
    "## Diagonal Array"
   ]
  },
  {
   "cell_type": "code",
   "execution_count": null,
   "metadata": {},
   "outputs": [],
   "source": [
    "h = np.diag([10,20,30,40,50])\n",
    "print(h)"
   ]
  },
  {
   "cell_type": "markdown",
   "metadata": {},
   "source": [
    "## Random nd arrays"
   ]
  },
  {
   "cell_type": "code",
   "execution_count": null,
   "metadata": {},
   "outputs": [],
   "source": [
    "i = np.random.random((3,3))\n",
    "print(i)"
   ]
  },
  {
   "cell_type": "code",
   "execution_count": null,
   "metadata": {},
   "outputs": [],
   "source": [
    "j = np.random.randint(1,5,size=(3,3))\n",
    "print(j)"
   ]
  },
  {
   "cell_type": "markdown",
   "metadata": {},
   "source": [
    "## Evenly spaced arrays"
   ]
  },
  {
   "cell_type": "code",
   "execution_count": null,
   "metadata": {},
   "outputs": [],
   "source": [
    "k = np.arange(10)\n",
    "print(k)\n",
    "l = np.arange(4,10)\n",
    "print(l)\n",
    "m = np.arange(1,14,3)\n",
    "print(m)"
   ]
  },
  {
   "cell_type": "code",
   "execution_count": null,
   "metadata": {},
   "outputs": [],
   "source": [
    "n = np.linspace(1,10,3)\n",
    "print(n)"
   ]
  },
  {
   "cell_type": "code",
   "execution_count": null,
   "metadata": {},
   "outputs": [],
   "source": [
    "o = np.arange(20).reshape(4,5)\n",
    "print(o)"
   ]
  },
  {
   "cell_type": "markdown",
   "metadata": {},
   "source": [
    "# Array Analysis"
   ]
  },
  {
   "cell_type": "code",
   "execution_count": null,
   "metadata": {},
   "outputs": [],
   "source": [
    "p = np.random.randint(10,90,(5,5))\n",
    "print(p)"
   ]
  },
  {
   "cell_type": "code",
   "execution_count": null,
   "metadata": {},
   "outputs": [],
   "source": [
    "print(p.shape)"
   ]
  },
  {
   "cell_type": "code",
   "execution_count": null,
   "metadata": {},
   "outputs": [],
   "source": [
    "print(p.ndim)"
   ]
  },
  {
   "cell_type": "code",
   "execution_count": null,
   "metadata": {},
   "outputs": [],
   "source": [
    "print(p.size)"
   ]
  },
  {
   "cell_type": "code",
   "execution_count": null,
   "metadata": {},
   "outputs": [],
   "source": [
    "print(p.dtype)"
   ]
  },
  {
   "cell_type": "markdown",
   "metadata": {},
   "source": [
    "# Arithematic Operations"
   ]
  },
  {
   "cell_type": "code",
   "execution_count": null,
   "metadata": {},
   "outputs": [],
   "source": [
    "q = np.array([1,2,3,4,5])\n",
    "r = np.array([1.5,2.5,3.5,4.5,5.5])"
   ]
  },
  {
   "cell_type": "code",
   "execution_count": null,
   "metadata": {},
   "outputs": [],
   "source": [
    "print(q + r)\n",
    "print('\\n')\n",
    "print(np.add(q,r))"
   ]
  },
  {
   "cell_type": "code",
   "execution_count": null,
   "metadata": {},
   "outputs": [],
   "source": [
    "print(q - r)\n",
    "print('\\n')\n",
    "print(np.subtract(q,r))"
   ]
  },
  {
   "cell_type": "code",
   "execution_count": null,
   "metadata": {},
   "outputs": [],
   "source": [
    "print(q * r)\n",
    "print('\\n')\n",
    "print(np.multiply(q,r))"
   ]
  },
  {
   "cell_type": "code",
   "execution_count": null,
   "metadata": {},
   "outputs": [],
   "source": [
    "print(q / r)\n",
    "print('\\n')\n",
    "print(np.divide(q,r))"
   ]
  },
  {
   "cell_type": "code",
   "execution_count": null,
   "metadata": {},
   "outputs": [],
   "source": [
    "print(np.exp(q))\n",
    "print(np.sqrt(q))\n",
    "print(np.power(q,2))"
   ]
  },
  {
   "cell_type": "markdown",
   "metadata": {},
   "source": [
    "# Transpose Array"
   ]
  },
  {
   "cell_type": "code",
   "execution_count": null,
   "metadata": {},
   "outputs": [],
   "source": [
    "s = np.random.randint(1,10,(2,5))\n",
    "print(s)\n",
    "print(s.shape)\n",
    "trans = np.transpose(s)\n",
    "print(trans)\n",
    "print(trans.shape)"
   ]
  },
  {
   "cell_type": "markdown",
   "metadata": {},
   "source": [
    "# Boolean Indexing"
   ]
  },
  {
   "cell_type": "code",
   "execution_count": null,
   "metadata": {},
   "outputs": [],
   "source": [
    "t = np.arange(25).reshape(5,5)\n",
    "print(t)"
   ]
  },
  {
   "cell_type": "code",
   "execution_count": null,
   "metadata": {},
   "outputs": [],
   "source": [
    "print(t[t>10])"
   ]
  },
  {
   "cell_type": "code",
   "execution_count": null,
   "metadata": {},
   "outputs": [],
   "source": [
    "print(t[t<=7])"
   ]
  },
  {
   "cell_type": "code",
   "execution_count": null,
   "metadata": {},
   "outputs": [],
   "source": [
    "print(t[(t > 10) & (t < 17)])"
   ]
  },
  {
   "cell_type": "code",
   "execution_count": null,
   "metadata": {},
   "outputs": [],
   "source": [
    "t[(t > 10) & (t < 17)] = -1\n",
    "print(t)"
   ]
  },
  {
   "cell_type": "markdown",
   "metadata": {},
   "source": [
    "# Set Operations"
   ]
  },
  {
   "cell_type": "code",
   "execution_count": null,
   "metadata": {},
   "outputs": [],
   "source": [
    "u = np.array([1,2,3,4,5])\n",
    "v = np.array([6,7,2,8,4])"
   ]
  },
  {
   "cell_type": "code",
   "execution_count": null,
   "metadata": {},
   "outputs": [],
   "source": [
    "print(f\"Elements present in both u and v: {np.intersect1d(u,v)}\")\n",
    "print(f\"Elements present in u that are not in v: {np.setdiff1d(u,v)}\")\n",
    "print(f\"All elements of u and v: {np.union1d(u,v)}\")"
   ]
  },
  {
   "cell_type": "markdown",
   "metadata": {},
   "source": [
    "# Sorting"
   ]
  },
  {
   "cell_type": "markdown",
   "metadata": {},
   "source": [
    "## 1d array"
   ]
  },
  {
   "cell_type": "code",
   "execution_count": null,
   "metadata": {},
   "outputs": [],
   "source": [
    "w = np.random.randint(1, 11, size = (10))\n",
    "print(f\"Before sorting: {w}\")"
   ]
  },
  {
   "cell_type": "code",
   "execution_count": null,
   "metadata": {},
   "outputs": [],
   "source": [
    "print(f\"After Sorting (out of place): {np.sort(w)}\") # Used as a function\n",
    "print(f\"After sorting: {w}\") # Original array remain intact"
   ]
  },
  {
   "cell_type": "code",
   "execution_count": null,
   "metadata": {},
   "outputs": [],
   "source": [
    "w.sort() # Used as a method\n",
    "print(f\"After Sorting (In place): {w}\")"
   ]
  },
  {
   "cell_type": "code",
   "execution_count": null,
   "metadata": {},
   "outputs": [],
   "source": [
    "print(f\"After Sorting (Unique values): {np.sort(np.unique(w))}\")"
   ]
  },
  {
   "cell_type": "markdown",
   "metadata": {},
   "source": [
    "## 2d array"
   ]
  },
  {
   "cell_type": "code",
   "execution_count": null,
   "metadata": {},
   "outputs": [],
   "source": [
    "x = np.random.randint(1, 11, size = (5,5))\n",
    "print(f\"Original array x:\\n{x}\")"
   ]
  },
  {
   "cell_type": "code",
   "execution_count": null,
   "metadata": {},
   "outputs": [],
   "source": [
    "print(f\"x with sorted columns:\\n{np.sort(x, axis=0)}\")"
   ]
  },
  {
   "cell_type": "code",
   "execution_count": null,
   "metadata": {},
   "outputs": [],
   "source": [
    "print(f\"x with sorted rows:\\n{np.sort(x, axis=1)}\")"
   ]
  },
  {
   "cell_type": "markdown",
   "metadata": {},
   "source": [
    "### Accessing, Inserting & Deleting elements into nd Arrays"
   ]
  },
  {
   "cell_type": "code",
   "execution_count": null,
   "metadata": {},
   "outputs": [],
   "source": [
    "y = np.array([1,2,3,4,5])\n",
    "\n",
    "print(f\"The original array is: {y}\")\n",
    "print(f\"The second element in the array is: {y[1]}\")\n",
    "\n",
    "y[3] = 20 # Update element using index position\n",
    "print(f\"The updated array is: {y}\")"
   ]
  },
  {
   "cell_type": "code",
   "execution_count": null,
   "metadata": {},
   "outputs": [],
   "source": [
    "z = np.array([[1,2,3], [4,5,6], [7,8,9]])\n",
    "\n",
    "print(f\"The original array is:\\n{z}\")\n",
    "print(f\"The element at (1,1) in the array is: {z[1,1]}\")\n",
    "\n",
    "z[0,0] = 20 # Update element using index position\n",
    "print(f\"The updated array is:\\n{z}\")"
   ]
  },
  {
   "cell_type": "code",
   "execution_count": null,
   "metadata": {},
   "outputs": [],
   "source": [
    "# Deleting elements\n",
    "y = np.delete(y, [0,4])\n",
    "print(f\"The updated array is: {y}\")\n",
    "\n",
    "z = np.delete(z, 0, axis = 0)\n",
    "print(f\"The updated array is:\\n{z}\")\n",
    "\n",
    "z = np.delete(z, [0,2], axis = 1)\n",
    "print(f\"The updated array is:\\n{z}\")"
   ]
  },
  {
   "cell_type": "code",
   "execution_count": null,
   "metadata": {},
   "outputs": [],
   "source": [
    "# Appending values\n",
    "y = np.array([1,2,3,4,5])\n",
    "z = np.array([[1,2,3], [4,5,6], [7,8,9]])\n",
    "\n",
    "y = np.append(y, 6)\n",
    "print(f\"The updated array is: {y}\")\n",
    "\n",
    "\n",
    "z = np.append(z, [[10,11,12]], axis = 0)\n",
    "print(f\"The updated array is:\\n{z}\")"
   ]
  },
  {
   "cell_type": "code",
   "execution_count": null,
   "metadata": {},
   "outputs": [],
   "source": [
    "# Inserting values\n",
    "y = np.array([1,2,3,4,5])\n",
    "z = np.array([[1,2,3], [4,5,6], [7,8,9]])\n",
    "\n",
    "y = np.insert(y, 1, [10, 11])\n",
    "print(f\"The updated array is: {y}\")\n",
    "\n",
    "z = np.insert(z, 0, [[10,11,12]], axis = 0)\n",
    "print(f\"The updated array is:\\n{z}\")\n",
    "\n",
    "z = np.insert(z, 0, [[100,111,122, 134]], axis = 1)\n",
    "print(f\"The updated array is:\\n{z}\")\n"
   ]
  },
  {
   "cell_type": "code",
   "execution_count": null,
   "metadata": {},
   "outputs": [],
   "source": [
    "# Stacking arrays\n",
    "\n",
    "x = np.array([1,2])\n",
    "y = np.array([[3,4], [5,6]])\n",
    "\n",
    "z = np.hstack((y, x.reshape(2,1)))\n",
    "print(f\"The updated array is:\\n{z}\")\n",
    "\n",
    "w = np.vstack((x,y))\n",
    "print(f\"The updated array is:\\n{w}\")"
   ]
  },
  {
   "cell_type": "markdown",
   "metadata": {},
   "source": [
    "# Slicing nd arrays"
   ]
  },
  {
   "cell_type": "code",
   "execution_count": null,
   "metadata": {},
   "outputs": [],
   "source": [
    "x = np.arange(20).reshape(4,5)\n",
    "print(f\"Original array:\\n{x}\")"
   ]
  },
  {
   "cell_type": "code",
   "execution_count": null,
   "metadata": {},
   "outputs": [],
   "source": [
    "# Select all elements from 2nd till 4th row and in 3rd to 5th column\n",
    "\n",
    "z = x[1:4, 2:5]\n",
    "print(z)"
   ]
  },
  {
   "cell_type": "code",
   "execution_count": null,
   "metadata": {},
   "outputs": [],
   "source": [
    "# Select elements from 2nd to last row and 3rd to 5th column\n",
    "w = x[1:, 2:5]\n",
    "print(w)"
   ]
  },
  {
   "cell_type": "code",
   "execution_count": null,
   "metadata": {},
   "outputs": [],
   "source": [
    "# Select elements from 1st to 3rd row and 3rd to 5th column\n",
    "y = x[:3, 2:5]\n",
    "print(y)"
   ]
  },
  {
   "cell_type": "code",
   "execution_count": null,
   "metadata": {},
   "outputs": [],
   "source": [
    "# Select all elements in 3rd row\n",
    "v = x[2, :]\n",
    "print(v)"
   ]
  },
  {
   "cell_type": "code",
   "execution_count": null,
   "metadata": {},
   "outputs": [],
   "source": [
    "# Extract diagonals\n",
    "\n",
    "print(np.diag(x))\n",
    "print(np.diag(x, k = 1))\n",
    "print(np.diag(x, k = -1))\n"
   ]
  },
  {
   "cell_type": "markdown",
   "metadata": {},
   "source": [
    "# Statistical functions"
   ]
  },
  {
   "cell_type": "code",
   "execution_count": null,
   "metadata": {},
   "outputs": [],
   "source": [
    "x = np.array([[1,2], [3,4]])\n",
    "\n",
    "print(x.mean())\n",
    "print(x.mean(axis = 0))\n",
    "print(x.mean(axis = 1))\n",
    "print(x.sum())\n",
    "print(x.sum(axis = 0))\n",
    "print(x.sum(axis = 1))\n",
    "print(x.std())\n",
    "print(x.std(axis = 0))\n",
    "print(x.std(axis = 1))\n",
    "print(np.median(x))\n",
    "print(np.median(x, axis = 0))\n",
    "print(np.median(x, axis = 1))\n",
    "print(x.min())\n",
    "print(x.min(axis = 0))\n",
    "print(x.min(axis = 1))\n",
    "print(x.max())\n",
    "print(x.max(axis = 0))\n",
    "print(x.max(axis = 1))"
   ]
  }
 ],
 "metadata": {
  "kernelspec": {
   "display_name": "Python 3.10.4 ('ml_venv': venv)",
   "language": "python",
   "name": "python3"
  },
  "language_info": {
   "codemirror_mode": {
    "name": "ipython",
    "version": 3
   },
   "file_extension": ".py",
   "mimetype": "text/x-python",
   "name": "python",
   "nbconvert_exporter": "python",
   "pygments_lexer": "ipython3",
   "version": "3.10.4"
  },
  "orig_nbformat": 4,
  "vscode": {
   "interpreter": {
    "hash": "597bf6f0ce64eed4080c8073b63dc7817e750b01a6ee9d419713de4090ad8a98"
   }
  }
 },
 "nbformat": 4,
 "nbformat_minor": 2
}
