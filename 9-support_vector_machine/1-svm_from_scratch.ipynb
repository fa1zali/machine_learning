{
 "cells": [
  {
   "cell_type": "markdown",
   "metadata": {},
   "source": [
    "### Support Vector Machine:\n",
    "\n",
    "Equation of Hyperplane:\n",
    "\n",
    "**y = wx - b**\n",
    "\n",
    "* x: Independent Variable\n",
    "* y: Dependent Variable\n",
    "* w: weight \n",
    "* b: bias\n",
    "\n",
    "### Gradient Descent:\n",
    "\n",
    "Gradient Descent is an optimization algorithm used for minimizing the cost function in various machine learning algorithm.\n",
    "Used for updating the parameters of the learning model.\n",
    "\n",
    "**w = w - α*dw**\n",
    "\n",
    "**b = b - α*db**\n",
    "\n",
    "### Learning Rate (α):\n",
    "\n",
    "Learning rate is a tuning parameter in an optimization algorithm that determines the step size at each iteration while moving\n",
    "towards a minimum of a loss function."
   ]
  },
  {
   "cell_type": "markdown",
   "metadata": {},
   "source": [
    "Importing Dependencies"
   ]
  },
  {
   "cell_type": "code",
   "execution_count": 1,
   "metadata": {},
   "outputs": [],
   "source": [
    "# import libraries\n",
    "\n",
    "import numpy as np"
   ]
  },
  {
   "cell_type": "markdown",
   "metadata": {},
   "source": [
    "Support Vector Machine Classifier"
   ]
  },
  {
   "cell_type": "code",
   "execution_count": 2,
   "metadata": {},
   "outputs": [],
   "source": [
    "class svm():\n",
    "    \n",
    "    # initializing hyperparameters\n",
    "    def __init__(self, learning_rate, iteration_count, lamda):\n",
    "        self.learning_rate = learning_rate\n",
    "        self.iteration_count = iteration_count\n",
    "        self.lamda = lamda\n",
    "\n",
    "    # fitting dataset to the SVM Classifier\n",
    "    def fit(self, X, Y):\n",
    "        \n",
    "        self.X = X\n",
    "        self.Y = Y\n",
    "\n",
    "        # m : number of datapoints/rows\n",
    "        # n: number of features/columns\n",
    "        self.m, self.n = X.shape\n",
    "\n",
    "        # initiate weight and bias\n",
    "        self.w = np.zeros(self.n)\n",
    "        self.b = 0\n",
    "\n",
    "        # implementing Gradient Descent algorithm for classifier\n",
    "        for i in range(self.iteration_count):\n",
    "            self.update_weights()\n",
    "    \n",
    "    # updating the weights and bias value\n",
    "    def update_weights(self):\n",
    "        \n",
    "        # label encoding\n",
    "        y_label = np.where(self.Y <= 0, -1, 1)\n",
    "\n",
    "        # gradients\n",
    "        for index, x_i in enumerate(self.X):\n",
    "            condition = y_label[index] * (np.dot(x_i, self.w)-self.b) >= 1\n",
    "\n",
    "            if condition == True:\n",
    "\n",
    "                dw = 2 * self.lamda * self.w\n",
    "                db = 0\n",
    "            \n",
    "            else:\n",
    "\n",
    "                dw = 2 * self.lamda * self.w - np.dot(x_i, y_label[index])\n",
    "                db = y_label[index]\n",
    "\n",
    "        self.w -= self.learning_rate*dw\n",
    "        self.b -= self.learning_rate*db\n",
    "\n",
    "    # predict label for input value\n",
    "    def predict(self,X):\n",
    "        \n",
    "        output = np.dot(X, self.w) - self.b\n",
    "        predicted_labels = np.sign(output)\n",
    "\n",
    "        y_hat = np.where(predicted_labels <= -1 , 0, 1)\n",
    "\n",
    "        return y_hat"
   ]
  }
 ],
 "metadata": {
  "kernelspec": {
   "display_name": "Python 3.10.4 ('ml_venv': venv)",
   "language": "python",
   "name": "python3"
  },
  "language_info": {
   "codemirror_mode": {
    "name": "ipython",
    "version": 3
   },
   "file_extension": ".py",
   "mimetype": "text/x-python",
   "name": "python",
   "nbconvert_exporter": "python",
   "pygments_lexer": "ipython3",
   "version": "3.10.4"
  },
  "orig_nbformat": 4,
  "vscode": {
   "interpreter": {
    "hash": "272bd001f21b68a2213b0c1280dde55559bfba749cceffeca64df063ee36ec83"
   }
  }
 },
 "nbformat": 4,
 "nbformat_minor": 2
}
