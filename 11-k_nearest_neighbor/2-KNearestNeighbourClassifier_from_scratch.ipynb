{
 "cells": [
  {
   "cell_type": "markdown",
   "metadata": {},
   "source": [
    "**Euclidean Distance**\n",
    "\n",
    "d = ((x2-x1)^2 + (y2-y1)^2)^0.5\n",
    "\n",
    "**Manhattan Distance**\n",
    "\n",
    "d = |x2-x1| + |y2-y1|\n",
    "\n"
   ]
  },
  {
   "cell_type": "markdown",
   "metadata": {},
   "source": [
    "### Import Dependencies"
   ]
  },
  {
   "cell_type": "code",
   "execution_count": 1,
   "metadata": {},
   "outputs": [],
   "source": [
    "import numpy as np\n",
    "import statistics"
   ]
  },
  {
   "cell_type": "markdown",
   "metadata": {},
   "source": [
    "**K-Nearest Classifier**"
   ]
  },
  {
   "cell_type": "code",
   "execution_count": null,
   "metadata": {},
   "outputs": [],
   "source": [
    "class KNN_Classifier():\n",
    "\n",
    "    # initiating parameters\n",
    "    def __init__(self, distance_metric):\n",
    "        self.distance_metric = distance_metric\n",
    "\n",
    "    # get the distance metric\n",
    "    def get_distance_metric(self, training_data_point, test_data_point):\n",
    "        if self.distance_metric.lower() == 'euclidean':\n",
    "            dist = 0\n",
    "            for i in range(len(training_data_point)-1):\n",
    "                dist += (training_data_point[i] - test_data_point[i])**2\n",
    "            eld_dist = np.sqrt(dist)\n",
    "            return eld_dist\n",
    "        else:\n",
    "            dist = 0\n",
    "            for i in range(len(training_data_point)-1):\n",
    "                dist += abs(training_data_point[i] - test_data_point[i])\n",
    "            mht_dist = dist\n",
    "            return mht_dist\n",
    "\n",
    "    # get the nearest neighbor\n",
    "    def nearest_neighbors(self, X_train, test_data, k):\n",
    "        dist_list = []\n",
    "\n",
    "        for training_data in X_train:\n",
    "            distance = self.get_distance_metric(training_data, test_data)\n",
    "            dist_list.append(training_data, distance)\n",
    "\n",
    "        dist_list.sort(key=lambda x:x[1])\n",
    "        \n",
    "        neighbor_list = []\n",
    "\n",
    "        for j in range(k):\n",
    "            neighbor_list.append(dist_list[j][0])\n",
    "\n",
    "        return neighbor_list\n",
    "\n",
    "    # predict class of new data point    \n",
    "    def predict(self, X_train, test_data, k):\n",
    "        neighbors = self.nearest_neighbors(X_train, test_data, k)\n",
    "\n",
    "        for data in neighbors:\n",
    "            label = []\n",
    "            label.append(data[-1])\n",
    "\n",
    "        predicted_class = statistics.mode(label)\n",
    "\n",
    "        return predicted_class"
   ]
  }
 ],
 "metadata": {
  "kernelspec": {
   "display_name": "Python 3.10.4 ('ml_venv')",
   "language": "python",
   "name": "python3"
  },
  "language_info": {
   "codemirror_mode": {
    "name": "ipython",
    "version": 3
   },
   "file_extension": ".py",
   "mimetype": "text/x-python",
   "name": "python",
   "nbconvert_exporter": "python",
   "pygments_lexer": "ipython3",
   "version": "3.10.4"
  },
  "orig_nbformat": 4,
  "vscode": {
   "interpreter": {
    "hash": "00c7f7148def4b0bf9c187296c070d612b78037f62aca7909b00945e7f76ce2b"
   }
  }
 },
 "nbformat": 4,
 "nbformat_minor": 2
}
